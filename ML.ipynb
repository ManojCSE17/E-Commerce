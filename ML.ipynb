{
 "cells": [
  {
   "cell_type": "markdown",
   "metadata": {
    "colab_type": "text",
    "id": "wQAjoVURfP7V"
   },
   "source": [
    "# **Importing Modules**"
   ]
  },
  {
   "cell_type": "code",
   "execution_count": 0,
   "metadata": {
    "colab": {},
    "colab_type": "code",
    "id": "ZJYc-1HYrG7j"
   },
   "outputs": [],
   "source": [
    "import numpy as np\n",
    "import pandas as pd\n",
    "\n",
    "from sklearn.feature_extraction.text import TfidfVectorizer\n",
    "\n",
    "import matplotlib.pyplot as plt\n",
    "\n",
    "from sklearn.metrics import make_scorer\n",
    "from sklearn.metrics import accuracy_score,confusion_matrix,classification_report\n",
    "from sklearn.metrics import roc_curve, auc\n",
    "\n",
    "from sklearn.model_selection import GridSearchCV"
   ]
  },
  {
   "cell_type": "markdown",
   "metadata": {
    "colab_type": "text",
    "id": "Y6vgP3ABfVDH"
   },
   "source": [
    "# **Uploading the dataset**"
   ]
  },
  {
   "cell_type": "code",
   "execution_count": 2,
   "metadata": {
    "colab": {
     "base_uri": "https://localhost:8080/",
     "height": 206
    },
    "colab_type": "code",
    "id": "eA4WK8lEsGdk",
    "outputId": "d4229b84-7ae2-4bc1-e59a-37354a63f320"
   },
   "outputs": [
    {
     "data": {
      "text/html": [
       "<div>\n",
       "<style scoped>\n",
       "    .dataframe tbody tr th:only-of-type {\n",
       "        vertical-align: middle;\n",
       "    }\n",
       "\n",
       "    .dataframe tbody tr th {\n",
       "        vertical-align: top;\n",
       "    }\n",
       "\n",
       "    .dataframe thead th {\n",
       "        text-align: right;\n",
       "    }\n",
       "</style>\n",
       "<table border=\"1\" class=\"dataframe\">\n",
       "  <thead>\n",
       "    <tr style=\"text-align: right;\">\n",
       "      <th></th>\n",
       "      <th>Cleaned_Text</th>\n",
       "      <th>Recommended IND</th>\n",
       "      <th>Rating_Class</th>\n",
       "      <th>Sentiment</th>\n",
       "      <th>Polarity Score</th>\n",
       "      <th>Title</th>\n",
       "    </tr>\n",
       "  </thead>\n",
       "  <tbody>\n",
       "    <tr>\n",
       "      <th>0</th>\n",
       "      <td>absolutely wonderful silky sexy comfortable</td>\n",
       "      <td>1</td>\n",
       "      <td>Good</td>\n",
       "      <td>1</td>\n",
       "      <td>0.8932</td>\n",
       "      <td></td>\n",
       "    </tr>\n",
       "    <tr>\n",
       "      <th>1</th>\n",
       "      <td>love dress sooo pretty happen find store glad ...</td>\n",
       "      <td>1</td>\n",
       "      <td>Good</td>\n",
       "      <td>1</td>\n",
       "      <td>0.9729</td>\n",
       "      <td></td>\n",
       "    </tr>\n",
       "    <tr>\n",
       "      <th>2</th>\n",
       "      <td>high hope dress really want work initially ord...</td>\n",
       "      <td>0</td>\n",
       "      <td>Bad</td>\n",
       "      <td>1</td>\n",
       "      <td>0.9427</td>\n",
       "      <td>Some major design flaws</td>\n",
       "    </tr>\n",
       "    <tr>\n",
       "      <th>3</th>\n",
       "      <td>love love love jumpsuit fun flirty fabulous ev...</td>\n",
       "      <td>1</td>\n",
       "      <td>Good</td>\n",
       "      <td>1</td>\n",
       "      <td>0.5727</td>\n",
       "      <td>My favorite buy!</td>\n",
       "    </tr>\n",
       "    <tr>\n",
       "      <th>4</th>\n",
       "      <td>shirt flattering due adjustable front tie perf...</td>\n",
       "      <td>1</td>\n",
       "      <td>Good</td>\n",
       "      <td>1</td>\n",
       "      <td>0.9291</td>\n",
       "      <td>Flattering shirt</td>\n",
       "    </tr>\n",
       "  </tbody>\n",
       "</table>\n",
       "</div>"
      ],
      "text/plain": [
       "                                        Cleaned_Text  ...                    Title\n",
       "0        absolutely wonderful silky sexy comfortable  ...                         \n",
       "1  love dress sooo pretty happen find store glad ...  ...                         \n",
       "2  high hope dress really want work initially ord...  ...  Some major design flaws\n",
       "3  love love love jumpsuit fun flirty fabulous ev...  ...         My favorite buy!\n",
       "4  shirt flattering due adjustable front tie perf...  ...         Flattering shirt\n",
       "\n",
       "[5 rows x 6 columns]"
      ]
     },
     "execution_count": 2,
     "metadata": {
      "tags": []
     },
     "output_type": "execute_result"
    }
   ],
   "source": [
    "url = \"https://raw.githubusercontent.com/ManojCSE17/E-Commerce/master/cleaned.csv\"\n",
    "data = pd.read_csv(url,index_col=0)\n",
    "data.head()"
   ]
  },
  {
   "cell_type": "code",
   "execution_count": 3,
   "metadata": {
    "colab": {
     "base_uri": "https://localhost:8080/",
     "height": 139
    },
    "colab_type": "code",
    "id": "whHTcj45_UnO",
    "outputId": "66aece3b-4b7f-41a4-94b2-d5dac659d32b"
   },
   "outputs": [
    {
     "data": {
      "text/plain": [
       "Cleaned_Text       0\n",
       "Recommended IND    0\n",
       "Rating_Class       0\n",
       "Sentiment          0\n",
       "Polarity Score     0\n",
       "Title              0\n",
       "dtype: int64"
      ]
     },
     "execution_count": 3,
     "metadata": {
      "tags": []
     },
     "output_type": "execute_result"
    }
   ],
   "source": [
    "data.isnull().sum()"
   ]
  },
  {
   "cell_type": "code",
   "execution_count": 4,
   "metadata": {
    "colab": {
     "base_uri": "https://localhost:8080/",
     "height": 206
    },
    "colab_type": "code",
    "id": "988qU_kP_ade",
    "outputId": "51188d7f-002a-4cbe-bf78-6f86c1da69f8"
   },
   "outputs": [
    {
     "data": {
      "text/html": [
       "<div>\n",
       "<style scoped>\n",
       "    .dataframe tbody tr th:only-of-type {\n",
       "        vertical-align: middle;\n",
       "    }\n",
       "\n",
       "    .dataframe tbody tr th {\n",
       "        vertical-align: top;\n",
       "    }\n",
       "\n",
       "    .dataframe thead th {\n",
       "        text-align: right;\n",
       "    }\n",
       "</style>\n",
       "<table border=\"1\" class=\"dataframe\">\n",
       "  <thead>\n",
       "    <tr style=\"text-align: right;\">\n",
       "      <th></th>\n",
       "      <th>Cleaned_Text</th>\n",
       "      <th>Recommended IND</th>\n",
       "      <th>Rating_Class</th>\n",
       "      <th>Sentiment</th>\n",
       "      <th>Polarity Score</th>\n",
       "      <th>Title</th>\n",
       "    </tr>\n",
       "  </thead>\n",
       "  <tbody>\n",
       "    <tr>\n",
       "      <th>0</th>\n",
       "      <td>absolutely wonderful silky sexy comfortable</td>\n",
       "      <td>1</td>\n",
       "      <td>1</td>\n",
       "      <td>1</td>\n",
       "      <td>0.8932</td>\n",
       "      <td></td>\n",
       "    </tr>\n",
       "    <tr>\n",
       "      <th>1</th>\n",
       "      <td>love dress sooo pretty happen find store glad ...</td>\n",
       "      <td>1</td>\n",
       "      <td>1</td>\n",
       "      <td>1</td>\n",
       "      <td>0.9729</td>\n",
       "      <td></td>\n",
       "    </tr>\n",
       "    <tr>\n",
       "      <th>2</th>\n",
       "      <td>high hope dress really want work initially ord...</td>\n",
       "      <td>0</td>\n",
       "      <td>0</td>\n",
       "      <td>1</td>\n",
       "      <td>0.9427</td>\n",
       "      <td>Some major design flaws</td>\n",
       "    </tr>\n",
       "    <tr>\n",
       "      <th>3</th>\n",
       "      <td>love love love jumpsuit fun flirty fabulous ev...</td>\n",
       "      <td>1</td>\n",
       "      <td>1</td>\n",
       "      <td>1</td>\n",
       "      <td>0.5727</td>\n",
       "      <td>My favorite buy!</td>\n",
       "    </tr>\n",
       "    <tr>\n",
       "      <th>4</th>\n",
       "      <td>shirt flattering due adjustable front tie perf...</td>\n",
       "      <td>1</td>\n",
       "      <td>1</td>\n",
       "      <td>1</td>\n",
       "      <td>0.9291</td>\n",
       "      <td>Flattering shirt</td>\n",
       "    </tr>\n",
       "  </tbody>\n",
       "</table>\n",
       "</div>"
      ],
      "text/plain": [
       "                                        Cleaned_Text  ...                    Title\n",
       "0        absolutely wonderful silky sexy comfortable  ...                         \n",
       "1  love dress sooo pretty happen find store glad ...  ...                         \n",
       "2  high hope dress really want work initially ord...  ...  Some major design flaws\n",
       "3  love love love jumpsuit fun flirty fabulous ev...  ...         My favorite buy!\n",
       "4  shirt flattering due adjustable front tie perf...  ...         Flattering shirt\n",
       "\n",
       "[5 rows x 6 columns]"
      ]
     },
     "execution_count": 4,
     "metadata": {
      "tags": []
     },
     "output_type": "execute_result"
    }
   ],
   "source": [
    "data['Rating_Class'] = data['Rating_Class'].map({\"Good\":1,\"Bad\":0})\n",
    "data.head()"
   ]
  },
  {
   "cell_type": "code",
   "execution_count": 5,
   "metadata": {
    "colab": {
     "base_uri": "https://localhost:8080/",
     "height": 175
    },
    "colab_type": "code",
    "id": "XU9kMwVs_02Z",
    "outputId": "1c4b0f53-c4d7-485d-c3da-bd6cbf800d84"
   },
   "outputs": [
    {
     "data": {
      "text/html": [
       "<div>\n",
       "<style scoped>\n",
       "    .dataframe tbody tr th:only-of-type {\n",
       "        vertical-align: middle;\n",
       "    }\n",
       "\n",
       "    .dataframe tbody tr th {\n",
       "        vertical-align: top;\n",
       "    }\n",
       "\n",
       "    .dataframe thead th {\n",
       "        text-align: right;\n",
       "    }\n",
       "</style>\n",
       "<table border=\"1\" class=\"dataframe\">\n",
       "  <thead>\n",
       "    <tr style=\"text-align: right;\">\n",
       "      <th></th>\n",
       "      <th>Recommended IND</th>\n",
       "      <th>Rating_Class</th>\n",
       "      <th>Sentiment</th>\n",
       "      <th>Polarity Score</th>\n",
       "    </tr>\n",
       "  </thead>\n",
       "  <tbody>\n",
       "    <tr>\n",
       "      <th>Recommended IND</th>\n",
       "      <td>1.000000</td>\n",
       "      <td>0.811082</td>\n",
       "      <td>0.321646</td>\n",
       "      <td>0.427276</td>\n",
       "    </tr>\n",
       "    <tr>\n",
       "      <th>Rating_Class</th>\n",
       "      <td>0.811082</td>\n",
       "      <td>1.000000</td>\n",
       "      <td>0.311262</td>\n",
       "      <td>0.427697</td>\n",
       "    </tr>\n",
       "    <tr>\n",
       "      <th>Sentiment</th>\n",
       "      <td>0.321646</td>\n",
       "      <td>0.311262</td>\n",
       "      <td>1.000000</td>\n",
       "      <td>0.837606</td>\n",
       "    </tr>\n",
       "    <tr>\n",
       "      <th>Polarity Score</th>\n",
       "      <td>0.427276</td>\n",
       "      <td>0.427697</td>\n",
       "      <td>0.837606</td>\n",
       "      <td>1.000000</td>\n",
       "    </tr>\n",
       "  </tbody>\n",
       "</table>\n",
       "</div>"
      ],
      "text/plain": [
       "                 Recommended IND  Rating_Class  Sentiment  Polarity Score\n",
       "Recommended IND         1.000000      0.811082   0.321646        0.427276\n",
       "Rating_Class            0.811082      1.000000   0.311262        0.427697\n",
       "Sentiment               0.321646      0.311262   1.000000        0.837606\n",
       "Polarity Score          0.427276      0.427697   0.837606        1.000000"
      ]
     },
     "execution_count": 5,
     "metadata": {
      "tags": []
     },
     "output_type": "execute_result"
    }
   ],
   "source": [
    "data.corr()"
   ]
  },
  {
   "cell_type": "markdown",
   "metadata": {
    "colab_type": "text",
    "id": "5S6p8sWZfbpE"
   },
   "source": [
    "# **Frequency Distibution**"
   ]
  },
  {
   "cell_type": "code",
   "execution_count": 6,
   "metadata": {
    "colab": {
     "base_uri": "https://localhost:8080/",
     "height": 278
    },
    "colab_type": "code",
    "id": "UG-izGjMsD1u",
    "outputId": "136a370c-d749-4df9-b10c-1fb9b1c54258"
   },
   "outputs": [
    {
     "name": "stdout",
     "output_type": "stream",
     "text": [
      "Length of the words used by TfidfVectorizer() for Bagging : 15855\n",
      "Frequency Distribution dataframe :\n",
      "               Word  Count\n",
      "5000      warehouse      3\n",
      "5001      replenish      3\n",
      "5002  automatically      3\n",
      "5003         piling      3\n",
      "5004            bam      3\n",
      "5005  manufacturing      3\n",
      "5006       graduate      3\n",
      "5007        pliable      3\n",
      "5008      gradually      3\n",
      "5009          saucy      3\n",
      "Reducing OverFitting by reducing the words in TFIDF with the help of StopWords : 11498\n",
      "Few StopWords : ['savvy', 'relate', 'whit', 'handknit', 'subpar']\n"
     ]
    }
   ],
   "source": [
    "from nltk.probability import FreqDist\n",
    "words = \" \".join(data['Cleaned_Text'].tolist())\n",
    "fd = FreqDist(words.split())\n",
    "dtf = pd.DataFrame(fd.most_common(633105),columns=['Word','Count'])\n",
    "print(\"Length of the words used by TfidfVectorizer() for Bagging :\",len(fd.most_common(633105)))\n",
    "print(\"Frequency Distribution dataframe :\")\n",
    "print(dtf[5000:5010])\n",
    "stp = dtf[dtf[\"Count\"]<4]['Word'].tolist()\n",
    "print(\"Reducing OverFitting by reducing the words in TFIDF with the help of StopWords :\",len(stp))\n",
    "print(\"Few StopWords :\",stp[:5])\n",
    "stp = set(stp)"
   ]
  },
  {
   "cell_type": "markdown",
   "metadata": {
    "colab_type": "text",
    "id": "mKED6NAVfh1K"
   },
   "source": [
    "# **TfidfVectorizer()**"
   ]
  },
  {
   "cell_type": "code",
   "execution_count": 7,
   "metadata": {
    "colab": {
     "base_uri": "https://localhost:8080/",
     "height": 211
    },
    "colab_type": "code",
    "id": "3kq40Vg7mEac",
    "outputId": "fd5e0566-f593-49ed-afad-2101cab32458"
   },
   "outputs": [
    {
     "name": "stderr",
     "output_type": "stream",
     "text": [
      "/usr/local/lib/python3.6/dist-packages/sklearn/feature_extraction/text.py:385: UserWarning: Your stop_words may be inconsistent with your preprocessing. Tokenizing the stop words generated tokens ['akemi', 'amp', 'ampampampamp', 'ampampampampm', 'ampampampampquot', 'ampampampampt', 'ampampampquot', 'ampampampt', 'ampampll', 'ampampm', 'ampamps', 'ampampt', 'ampd', 'ampm', 'ampquot', 'ampquotno', 'ampt', 'aprã', 'bc', 'booty', 'breasts', 'can', 'chest', 'clingy', 'cloth', 'color', 'cup', 'dd', 'degree', 'didn', 'don', 'down', 'ed', 'elastic', 'especially', 'forgiving', 'good', 'im', 'is', 'it', 'kin', 'lb', 'lbs', 'll', 'out', 'pi', 'plus', 'poly', 'probably', 'pure', 'quot', 'quotdrape', 'quoti', 'quotsky', 'scratches', 'ship', 'sski', 'stone', 'sure', 'that', 'thin', 'tight', 'too', 'up', 've', 'waist', 'wool'] not in stop_words.\n",
      "  'stop_words.' % sorted(inconsistent))\n"
     ]
    },
    {
     "name": "stdout",
     "output_type": "stream",
     "text": [
      "Length of words used for bagging in TFIDF : 4369\n",
      "Few Feature Names : ['abdoman', 'ability', 'able', 'absolute', 'absolutely']\n",
      "\n",
      "TFIDF Vector :  [[0.         0.         0.         ... 0.         0.         0.        ]\n",
      " [0.         0.         0.         ... 0.         0.         0.        ]\n",
      " [0.         0.         0.         ... 0.13659199 0.         0.        ]\n",
      " [0.         0.         0.         ... 0.         0.         0.        ]\n",
      " [0.         0.         0.         ... 0.         0.         0.        ]]\n"
     ]
    }
   ],
   "source": [
    "vect = TfidfVectorizer(stop_words=stp)\n",
    "x = vect.fit_transform(data['Cleaned_Text'].tolist())\n",
    "print(\"Length of words used for bagging in TFIDF :\",len(vect.get_feature_names()))\n",
    "print(\"Few Feature Names :\",vect.get_feature_names()[:5])\n",
    "print(\"\")\n",
    "print(\"TFIDF Vector : \",x.toarray()[:5])"
   ]
  },
  {
   "cell_type": "code",
   "execution_count": 8,
   "metadata": {
    "colab": {
     "base_uri": "https://localhost:8080/",
     "height": 34
    },
    "colab_type": "code",
    "id": "QNEoq2Q_LhXL",
    "outputId": "1f7e081a-40aa-4038-b04b-cf4b1560a7a4"
   },
   "outputs": [
    {
     "data": {
      "text/plain": [
       "scipy.sparse.csr.csr_matrix"
      ]
     },
     "execution_count": 8,
     "metadata": {
      "tags": []
     },
     "output_type": "execute_result"
    }
   ],
   "source": [
    "type(x)"
   ]
  },
  {
   "cell_type": "code",
   "execution_count": 9,
   "metadata": {
    "colab": {
     "base_uri": "https://localhost:8080/",
     "height": 86
    },
    "colab_type": "code",
    "id": "wPOEu83CtN9T",
    "outputId": "fc9cf44f-dff8-45b7-cb26-2898a9829228"
   },
   "outputs": [
    {
     "name": "stdout",
     "output_type": "stream",
     "text": [
      "(22641, 4369)\n",
      "(22641, 4372)\n",
      "[1 1 0 1 1]\n",
      "(22641,)\n"
     ]
    }
   ],
   "source": [
    "print(x.get_shape())\n",
    "import scipy\n",
    "from scipy.sparse import hstack\n",
    "x = hstack((x,scipy.sparse.csr.csr_matrix(data['Recommended IND']).T))\n",
    "x = hstack((x,scipy.sparse.csr.csr_matrix(data['Polarity Score']).T))\n",
    "x = hstack((x,scipy.sparse.csr.csr_matrix(data['Sentiment']).T))\n",
    "\n",
    "x = x.toarray()\n",
    "print(x.shape)\n",
    "\n",
    "#------------------------------------------------------------------------\n",
    "\n",
    "y = data['Rating_Class'].tolist()\n",
    "y = np.array(y)\n",
    "print(y[:5])\n",
    "print(y.shape)"
   ]
  },
  {
   "cell_type": "code",
   "execution_count": 10,
   "metadata": {
    "colab": {
     "base_uri": "https://localhost:8080/",
     "height": 34
    },
    "colab_type": "code",
    "id": "v6dLshVWZE3_",
    "outputId": "7e2e3d3d-f9dc-428d-c1ea-4a084b8ff987"
   },
   "outputs": [
    {
     "name": "stdout",
     "output_type": "stream",
     "text": [
      "(22641, 4372)\n"
     ]
    }
   ],
   "source": [
    "print(x.shape)"
   ]
  },
  {
   "cell_type": "markdown",
   "metadata": {
    "colab_type": "text",
    "id": "Y7bOGOVvekWc"
   },
   "source": [
    "# **Spliting data into Training(%70) and Testing(%30)**"
   ]
  },
  {
   "cell_type": "code",
   "execution_count": 0,
   "metadata": {
    "colab": {},
    "colab_type": "code",
    "id": "X0PCA-GLvkvD"
   },
   "outputs": [],
   "source": [
    "from sklearn.model_selection import train_test_split\n",
    "x_train,x_test,y_train,y_test = train_test_split(x,y,test_size=0.3,random_state=15)"
   ]
  },
  {
   "cell_type": "code",
   "execution_count": 12,
   "metadata": {
    "colab": {
     "base_uri": "https://localhost:8080/",
     "height": 66
    },
    "colab_type": "code",
    "id": "_zEeDdNi37zM",
    "outputId": "250e14fb-e981-4e07-bc5f-b0796c58a87c"
   },
   "outputs": [
    {
     "name": "stdout",
     "output_type": "stream",
     "text": [
      "0\n"
     ]
    },
    {
     "data": {
      "text/html": [
       "<div>\n",
       "<style scoped>\n",
       "    .dataframe tbody tr th:only-of-type {\n",
       "        vertical-align: middle;\n",
       "    }\n",
       "\n",
       "    .dataframe tbody tr th {\n",
       "        vertical-align: top;\n",
       "    }\n",
       "\n",
       "    .dataframe thead th {\n",
       "        text-align: right;\n",
       "    }\n",
       "</style>\n",
       "<table border=\"1\" class=\"dataframe\">\n",
       "  <thead>\n",
       "    <tr style=\"text-align: right;\">\n",
       "      <th></th>\n",
       "      <th>Model</th>\n",
       "      <th>Accuracy</th>\n",
       "    </tr>\n",
       "  </thead>\n",
       "  <tbody>\n",
       "  </tbody>\n",
       "</table>\n",
       "</div>"
      ],
      "text/plain": [
       "Empty DataFrame\n",
       "Columns: [Model, Accuracy]\n",
       "Index: []"
      ]
     },
     "execution_count": 12,
     "metadata": {
      "tags": []
     },
     "output_type": "execute_result"
    }
   ],
   "source": [
    "Comparision = pd.DataFrame(columns=[\"Model\",\"Accuracy\"])\n",
    "print(len(Comparision))\n",
    "Comparision"
   ]
  },
  {
   "cell_type": "markdown",
   "metadata": {
    "colab_type": "text",
    "id": "eIt93954z-iF"
   },
   "source": [
    "# **BernoulliNB**"
   ]
  },
  {
   "cell_type": "code",
   "execution_count": 0,
   "metadata": {
    "colab": {},
    "colab_type": "code",
    "id": "cUI_iF2thNql"
   },
   "outputs": [],
   "source": [
    "from sklearn.naive_bayes import BernoulliNB"
   ]
  },
  {
   "cell_type": "code",
   "execution_count": 14,
   "metadata": {
    "colab": {
     "base_uri": "https://localhost:8080/",
     "height": 167
    },
    "colab_type": "code",
    "id": "7zUDf81Dtxr1",
    "outputId": "b98ff2a1-5362-4336-ea22-c7081532eae6"
   },
   "outputs": [
    {
     "data": {
      "text/html": [
       "<div>\n",
       "<style scoped>\n",
       "    .dataframe tbody tr th:only-of-type {\n",
       "        vertical-align: middle;\n",
       "    }\n",
       "\n",
       "    .dataframe tbody tr th {\n",
       "        vertical-align: top;\n",
       "    }\n",
       "\n",
       "    .dataframe thead th {\n",
       "        text-align: right;\n",
       "    }\n",
       "</style>\n",
       "<table border=\"1\" class=\"dataframe\">\n",
       "  <thead>\n",
       "    <tr style=\"text-align: right;\">\n",
       "      <th></th>\n",
       "      <th>mean_fit_time</th>\n",
       "      <th>std_fit_time</th>\n",
       "      <th>mean_score_time</th>\n",
       "      <th>std_score_time</th>\n",
       "      <th>param_alpha</th>\n",
       "      <th>params</th>\n",
       "      <th>split0_test_score</th>\n",
       "      <th>split1_test_score</th>\n",
       "      <th>split2_test_score</th>\n",
       "      <th>split3_test_score</th>\n",
       "      <th>split4_test_score</th>\n",
       "      <th>mean_test_score</th>\n",
       "      <th>std_test_score</th>\n",
       "      <th>rank_test_score</th>\n",
       "    </tr>\n",
       "  </thead>\n",
       "  <tbody>\n",
       "    <tr>\n",
       "      <th>0</th>\n",
       "      <td>0.601074</td>\n",
       "      <td>0.107263</td>\n",
       "      <td>0.119484</td>\n",
       "      <td>0.001752</td>\n",
       "      <td>0.01</td>\n",
       "      <td>{'alpha': 0.01}</td>\n",
       "      <td>0.937358</td>\n",
       "      <td>0.945185</td>\n",
       "      <td>0.928909</td>\n",
       "      <td>0.941234</td>\n",
       "      <td>0.946831</td>\n",
       "      <td>0.939904</td>\n",
       "      <td>0.006403</td>\n",
       "      <td>2</td>\n",
       "    </tr>\n",
       "    <tr>\n",
       "      <th>1</th>\n",
       "      <td>0.518824</td>\n",
       "      <td>0.004380</td>\n",
       "      <td>0.120426</td>\n",
       "      <td>0.001520</td>\n",
       "      <td>0.1</td>\n",
       "      <td>{'alpha': 0.1}</td>\n",
       "      <td>0.947682</td>\n",
       "      <td>0.955720</td>\n",
       "      <td>0.946788</td>\n",
       "      <td>0.951336</td>\n",
       "      <td>0.953639</td>\n",
       "      <td>0.951033</td>\n",
       "      <td>0.003409</td>\n",
       "      <td>1</td>\n",
       "    </tr>\n",
       "  </tbody>\n",
       "</table>\n",
       "</div>"
      ],
      "text/plain": [
       "   mean_fit_time  std_fit_time  ...  std_test_score  rank_test_score\n",
       "0       0.601074      0.107263  ...        0.006403                2\n",
       "1       0.518824      0.004380  ...        0.003409                1\n",
       "\n",
       "[2 rows x 14 columns]"
      ]
     },
     "execution_count": 14,
     "metadata": {
      "tags": []
     },
     "output_type": "execute_result"
    }
   ],
   "source": [
    "model1 = GridSearchCV(BernoulliNB(),{'alpha':[0.01,0.1]},scoring='roc_auc',cv=5,refit='AUC')\n",
    "model1.fit(x_train,y_train)\n",
    "df1 = pd.DataFrame(model1.cv_results_)\n",
    "df1.head()"
   ]
  },
  {
   "cell_type": "code",
   "execution_count": 15,
   "metadata": {
    "colab": {
     "base_uri": "https://localhost:8080/",
     "height": 34
    },
    "colab_type": "code",
    "id": "KgPA9vYh8UiM",
    "outputId": "f0189a71-ccc0-4846-e6cb-e4075c55d8ba"
   },
   "outputs": [
    {
     "name": "stdout",
     "output_type": "stream",
     "text": [
      "0.9038716325629325\n"
     ]
    }
   ],
   "source": [
    "prediction = model1.predict(x_test)\n",
    "print(accuracy_score(y_test,prediction))\n",
    "Comparision.loc[len(Comparision)] = [\"BernoulliNB\",accuracy_score(y_test,prediction)*100]"
   ]
  },
  {
   "cell_type": "code",
   "execution_count": 16,
   "metadata": {
    "colab": {
     "base_uri": "https://localhost:8080/",
     "height": 80
    },
    "colab_type": "code",
    "id": "8-kmMtam97FO",
    "outputId": "bd9216ca-d1b0-4347-8109-70c46bdea53e"
   },
   "outputs": [
    {
     "data": {
      "text/html": [
       "<div>\n",
       "<style scoped>\n",
       "    .dataframe tbody tr th:only-of-type {\n",
       "        vertical-align: middle;\n",
       "    }\n",
       "\n",
       "    .dataframe tbody tr th {\n",
       "        vertical-align: top;\n",
       "    }\n",
       "\n",
       "    .dataframe thead th {\n",
       "        text-align: right;\n",
       "    }\n",
       "</style>\n",
       "<table border=\"1\" class=\"dataframe\">\n",
       "  <thead>\n",
       "    <tr style=\"text-align: right;\">\n",
       "      <th></th>\n",
       "      <th>Model</th>\n",
       "      <th>Accuracy</th>\n",
       "    </tr>\n",
       "  </thead>\n",
       "  <tbody>\n",
       "    <tr>\n",
       "      <th>0</th>\n",
       "      <td>BernoulliNB</td>\n",
       "      <td>90.387163</td>\n",
       "    </tr>\n",
       "  </tbody>\n",
       "</table>\n",
       "</div>"
      ],
      "text/plain": [
       "         Model   Accuracy\n",
       "0  BernoulliNB  90.387163"
      ]
     },
     "execution_count": 16,
     "metadata": {
      "tags": []
     },
     "output_type": "execute_result"
    }
   ],
   "source": [
    "Comparision"
   ]
  },
  {
   "cell_type": "code",
   "execution_count": 17,
   "metadata": {
    "colab": {
     "base_uri": "https://localhost:8080/",
     "height": 572
    },
    "colab_type": "code",
    "id": "oS5-w4Br8-Om",
    "outputId": "e6e02fab-0777-4ee3-eb17-18e30f414458"
   },
   "outputs": [
    {
     "data": {
      "text/plain": [
       "<matplotlib.legend.Legend at 0x7ff49d8afba8>"
      ]
     },
     "execution_count": 17,
     "metadata": {
      "tags": []
     },
     "output_type": "execute_result"
    },
    {
     "data": {
      "image/png": "[encoded data removed]",
      "text/plain": [
       "<Figure size 600x600 with 1 Axes>"
      ]
     },
     "metadata": {
      "needs_background": "light",
      "tags": []
     },
     "output_type": "display_data"
    }
   ],
   "source": [
    "prediction = model1.predict(x_test)\n",
    "fpr_bnb,tpr_bnb,_ = roc_curve(y_test,prediction)\n",
    "roc_auc_bnb = auc(fpr_bnb,tpr_bnb)\n",
    "plt.figure(figsize=(6,6),dpi=100)\n",
    "plt.plot(fpr_bnb, tpr_bnb, color='darkorange', lw=4, label='ROC curve (area = {:0.2f})'.format(roc_auc_bnb))\n",
    "plt.plot([0, 1], [0, 1], color='navy', lw=4, linestyle='--',label='No Classifier')\n",
    "plt.xlim([-0.01, 1.0])\n",
    "plt.ylim([-0.01, 1.05])\n",
    "plt.xlabel('False Positive Rate')\n",
    "plt.ylabel('True Positive Rate')\n",
    "plt.title('BernoulliNB')\n",
    "plt.legend(loc='lower right', fontsize=13)"
   ]
  },
  {
   "cell_type": "markdown",
   "metadata": {
    "colab_type": "text",
    "id": "iNFTlY2meFXn"
   },
   "source": [
    "# **SGDClassifier**"
   ]
  },
  {
   "cell_type": "code",
   "execution_count": 18,
   "metadata": {
    "colab": {
     "base_uri": "https://localhost:8080/",
     "height": 104
    },
    "colab_type": "code",
    "id": "khGeKfaf1UMV",
    "outputId": "39c15268-050a-4a6b-ece6-17f9c0f4570b"
   },
   "outputs": [
    {
     "name": "stdout",
     "output_type": "stream",
     "text": [
      "   mean_fit_time  std_fit_time  ...  std_test_score  rank_test_score\n",
      "0       1.186343      0.048119  ...        0.002856                2\n",
      "1       0.958325      0.002436  ...        0.002492                1\n",
      "\n",
      "[2 rows x 14 columns]\n"
     ]
    }
   ],
   "source": [
    "from sklearn.linear_model import SGDClassifier\n",
    "model2 = GridSearchCV(SGDClassifier(loss='hinge',penalty='l2'),{'alpha':[0.001,0.01]},scoring='roc_auc',cv=5)\n",
    "model2.fit(x_train,y_train)\n",
    "df2 = model2.cv_results_\n",
    "df2 = pd.DataFrame(df2)\n",
    "print(df2) "
   ]
  },
  {
   "cell_type": "code",
   "execution_count": 19,
   "metadata": {
    "colab": {
     "base_uri": "https://localhost:8080/",
     "height": 129
    },
    "colab_type": "code",
    "id": "qv5Ae4Rt8cXg",
    "outputId": "d1bc1b08-aeb7-4d46-fd3b-599d9776e108"
   },
   "outputs": [
    {
     "name": "stdout",
     "output_type": "stream",
     "text": [
      "0.9349330192845576\n"
     ]
    },
    {
     "data": {
      "text/html": [
       "<div>\n",
       "<style scoped>\n",
       "    .dataframe tbody tr th:only-of-type {\n",
       "        vertical-align: middle;\n",
       "    }\n",
       "\n",
       "    .dataframe tbody tr th {\n",
       "        vertical-align: top;\n",
       "    }\n",
       "\n",
       "    .dataframe thead th {\n",
       "        text-align: right;\n",
       "    }\n",
       "</style>\n",
       "<table border=\"1\" class=\"dataframe\">\n",
       "  <thead>\n",
       "    <tr style=\"text-align: right;\">\n",
       "      <th></th>\n",
       "      <th>Model</th>\n",
       "      <th>Accuracy</th>\n",
       "    </tr>\n",
       "  </thead>\n",
       "  <tbody>\n",
       "    <tr>\n",
       "      <th>0</th>\n",
       "      <td>BernoulliNB</td>\n",
       "      <td>90.387163</td>\n",
       "    </tr>\n",
       "    <tr>\n",
       "      <th>1</th>\n",
       "      <td>SGD Classifier</td>\n",
       "      <td>93.493302</td>\n",
       "    </tr>\n",
       "  </tbody>\n",
       "</table>\n",
       "</div>"
      ],
      "text/plain": [
       "            Model   Accuracy\n",
       "0     BernoulliNB  90.387163\n",
       "1  SGD Classifier  93.493302"
      ]
     },
     "execution_count": 19,
     "metadata": {
      "tags": []
     },
     "output_type": "execute_result"
    }
   ],
   "source": [
    "prediction = model2.predict(x_test)\n",
    "print(accuracy_score(y_test,prediction))\n",
    "Comparision.loc[len(Comparision)] = [\"SGD Classifier\",accuracy_score(y_test,prediction)*100]\n",
    "Comparision"
   ]
  },
  {
   "cell_type": "code",
   "execution_count": 20,
   "metadata": {
    "colab": {
     "base_uri": "https://localhost:8080/",
     "height": 572
    },
    "colab_type": "code",
    "id": "vmRbtp7HA0wo",
    "outputId": "72780e4a-6c53-4081-e52e-4faea9555de4"
   },
   "outputs": [
    {
     "data": {
      "text/plain": [
       "<matplotlib.legend.Legend at 0x7ff49d8bf940>"
      ]
     },
     "execution_count": 20,
     "metadata": {
      "tags": []
     },
     "output_type": "execute_result"
    },
    {
     "data": {
      "image/png": "[encoded data removed]",
      "text/plain": [
       "<Figure size 600x600 with 1 Axes>"
      ]
     },
     "metadata": {
      "needs_background": "light",
      "tags": []
     },
     "output_type": "display_data"
    }
   ],
   "source": [
    "prediction = model2.predict(x_test)\n",
    "fpr,tpr,_ = roc_curve(y_test,prediction)\n",
    "roc_auc = auc(fpr,tpr)\n",
    "plt.figure(figsize=(6,6),dpi=100)\n",
    "plt.plot(fpr, tpr, color='darkorange', lw=4, label='ROC curve (area = %0.2f)' %roc_auc)\n",
    "plt.plot([0, 1], [0, 1], color='navy', lw=4, linestyle='--',label='No Classifier')\n",
    "plt.xlim([-0.01, 1.0])\n",
    "plt.ylim([-0.01, 1.05])\n",
    "plt.xlabel('False Positive Rate')\n",
    "plt.ylabel('True Positive Rate')\n",
    "plt.title('SGD Classifier')\n",
    "plt.legend(loc='lower right', fontsize=13)"
   ]
  },
  {
   "cell_type": "markdown",
   "metadata": {
    "colab_type": "text",
    "id": "2HzI4oJuAbnw"
   },
   "source": [
    "# **Logistic Regression**"
   ]
  },
  {
   "cell_type": "code",
   "execution_count": 0,
   "metadata": {
    "colab": {},
    "colab_type": "code",
    "id": "IUuWvsmmAfWd"
   },
   "outputs": [],
   "source": [
    "from sklearn.linear_model import LogisticRegression"
   ]
  },
  {
   "cell_type": "code",
   "execution_count": 22,
   "metadata": {
    "colab": {
     "base_uri": "https://localhost:8080/",
     "height": 104
    },
    "colab_type": "code",
    "id": "8gB9XLLBAm6s",
    "outputId": "edfc8521-a599-4ce9-ab00-101c4b21f359"
   },
   "outputs": [
    {
     "name": "stdout",
     "output_type": "stream",
     "text": [
      "   mean_fit_time  std_fit_time  ...  std_test_score  rank_test_score\n",
      "0       5.223182      0.850652  ...        0.002132                1\n",
      "1       4.938552      0.911173  ...        0.002132                1\n",
      "\n",
      "[2 rows x 14 columns]\n"
     ]
    }
   ],
   "source": [
    "model6 = GridSearchCV(LogisticRegression(),param_grid={\"max_iter\":[1000,1500]},scoring='roc_auc',cv=5)\n",
    "model6.fit(x_train,y_train)\n",
    "df6 = model6.cv_results_\n",
    "df6 = pd.DataFrame(df6)\n",
    "print(df6) "
   ]
  },
  {
   "cell_type": "code",
   "execution_count": 23,
   "metadata": {
    "colab": {
     "base_uri": "https://localhost:8080/",
     "height": 34
    },
    "colab_type": "code",
    "id": "e_yJBv3WBCDQ",
    "outputId": "a35bfbc3-fe51-475e-ca45-f4b577898dd3"
   },
   "outputs": [
    {
     "name": "stdout",
     "output_type": "stream",
     "text": [
      "0.9343441778301192\n"
     ]
    }
   ],
   "source": [
    "prediction = model6.predict(x_test)\n",
    "print(accuracy_score(prediction,y_test))\n",
    "Comparision.loc[len(Comparision)] = [\"Logistic Regression\",accuracy_score(y_test,prediction)]"
   ]
  },
  {
   "cell_type": "code",
   "execution_count": 24,
   "metadata": {
    "colab": {
     "base_uri": "https://localhost:8080/",
     "height": 572
    },
    "colab_type": "code",
    "id": "B1IY8V8ZD-4V",
    "outputId": "79588522-4d22-4b73-c271-57caf19594e7"
   },
   "outputs": [
    {
     "data": {
      "text/plain": [
       "<matplotlib.legend.Legend at 0x7ff49d8d3c88>"
      ]
     },
     "execution_count": 24,
     "metadata": {
      "tags": []
     },
     "output_type": "execute_result"
    },
    {
     "data": {
      "image/png": "[encoded data removed]",
      "text/plain": [
       "<Figure size 600x600 with 1 Axes>"
      ]
     },
     "metadata": {
      "needs_background": "light",
      "tags": []
     },
     "output_type": "display_data"
    }
   ],
   "source": [
    "prediction = model6.predict(x_test)\n",
    "fpr,tpr,_ = roc_curve(y_test,prediction)\n",
    "roc_auc = auc(fpr,tpr)\n",
    "plt.figure(figsize=(6,6),dpi=100)\n",
    "plt.plot(fpr, tpr, color='darkorange', lw=4, label='ROC curve (area = %0.2f)' %roc_auc)\n",
    "plt.plot([0, 1], [0, 1], color='navy', lw=4, linestyle='--',label='No Classifier')\n",
    "plt.xlim([-0.01, 1.0])\n",
    "plt.ylim([-0.01, 1.05])\n",
    "plt.xlabel('False Positive Rate')\n",
    "plt.ylabel('True Positive Rate')\n",
    "plt.title('Logistic Regression')\n",
    "plt.legend(loc='lower right', fontsize=13)"
   ]
  },
  {
   "cell_type": "markdown",
   "metadata": {
    "colab_type": "text",
    "id": "UjoXQ92bd2SQ"
   },
   "source": [
    "# **XGBoostClassifier**"
   ]
  },
  {
   "cell_type": "code",
   "execution_count": 25,
   "metadata": {
    "colab": {
     "base_uri": "https://localhost:8080/",
     "height": 86
    },
    "colab_type": "code",
    "id": "6p1NegwCF3Kk",
    "outputId": "ccbd69d7-9d6d-4d75-ff97-080413e5787b"
   },
   "outputs": [
    {
     "name": "stdout",
     "output_type": "stream",
     "text": [
      "   mean_fit_time  std_fit_time  ...  std_test_score  rank_test_score\n",
      "0     109.050993      0.551126  ...        0.002746                1\n",
      "\n",
      "[1 rows x 15 columns]\n"
     ]
    }
   ],
   "source": [
    "from xgboost import XGBClassifier\n",
    "model3 = GridSearchCV(XGBClassifier(),{'learning_rate':[0.1],'n_estimators':[100]},scoring='roc_auc',cv=5)\n",
    "model3.fit(x_train,y_train)\n",
    "df3 = pd.DataFrame(model3.cv_results_)\n",
    "print(df3)"
   ]
  },
  {
   "cell_type": "code",
   "execution_count": 26,
   "metadata": {
    "colab": {
     "base_uri": "https://localhost:8080/",
     "height": 34
    },
    "colab_type": "code",
    "id": "Y8fTtp6ROZHJ",
    "outputId": "b8da7ce1-227c-49da-8864-a906028bb775"
   },
   "outputs": [
    {
     "name": "stdout",
     "output_type": "stream",
     "text": [
      "0.9346385985573384\n"
     ]
    }
   ],
   "source": [
    "prediction = model3.predict(x_test)\n",
    "print(accuracy_score(y_test,prediction))\n",
    "Comparision.loc[len(Comparision)] = [\"XGBoost Classifier\",accuracy_score(y_test,prediction)]"
   ]
  },
  {
   "cell_type": "code",
   "execution_count": 27,
   "metadata": {
    "colab": {
     "base_uri": "https://localhost:8080/",
     "height": 572
    },
    "colab_type": "code",
    "id": "PBBR8suxEG7R",
    "outputId": "ea51e3c5-1236-48f9-de73-b081c4ffc288"
   },
   "outputs": [
    {
     "data": {
      "text/plain": [
       "<matplotlib.legend.Legend at 0x7ff49d830b00>"
      ]
     },
     "execution_count": 27,
     "metadata": {
      "tags": []
     },
     "output_type": "execute_result"
    },
    {
     "data": {
      "image/png": "[encoded data removed]",
      "text/plain": [
       "<Figure size 600x600 with 1 Axes>"
      ]
     },
     "metadata": {
      "needs_background": "light",
      "tags": []
     },
     "output_type": "display_data"
    }
   ],
   "source": [
    "prediction = model3.predict(x_test)\n",
    "fpr,tpr,_ = roc_curve(y_test,prediction)\n",
    "roc_auc = auc(fpr,tpr)\n",
    "plt.figure(figsize=(6,6),dpi=100)\n",
    "plt.plot(fpr, tpr, color='darkorange', lw=4, label='ROC curve (area = %0.2f)' %roc_auc)\n",
    "plt.plot([0, 1], [0, 1], color='navy', lw=4, linestyle='--',label='No Classifier')\n",
    "plt.xlim([-0.01, 1.0])\n",
    "plt.ylim([-0.01, 1.05])\n",
    "plt.xlabel('False Positive Rate')\n",
    "plt.ylabel('True Positive Rate')\n",
    "plt.title('XGBoost Classifier')\n",
    "plt.legend(loc='lower right', fontsize=13)"
   ]
  },
  {
   "cell_type": "markdown",
   "metadata": {
    "colab_type": "text",
    "id": "K2a-36U6n8Rs"
   },
   "source": [
    "# **Decision Tree Classifier**"
   ]
  },
  {
   "cell_type": "code",
   "execution_count": 0,
   "metadata": {
    "colab": {},
    "colab_type": "code",
    "id": "9ikMmGm4n7vz"
   },
   "outputs": [],
   "source": [
    "from sklearn import tree"
   ]
  },
  {
   "cell_type": "code",
   "execution_count": 29,
   "metadata": {
    "colab": {
     "base_uri": "https://localhost:8080/",
     "height": 118
    },
    "colab_type": "code",
    "id": "Akc-ufAJoHTN",
    "outputId": "3d254dbe-0a8b-46d8-d1b6-971cc83f8fc0"
   },
   "outputs": [
    {
     "data": {
      "text/html": [
       "<div>\n",
       "<style scoped>\n",
       "    .dataframe tbody tr th:only-of-type {\n",
       "        vertical-align: middle;\n",
       "    }\n",
       "\n",
       "    .dataframe tbody tr th {\n",
       "        vertical-align: top;\n",
       "    }\n",
       "\n",
       "    .dataframe thead th {\n",
       "        text-align: right;\n",
       "    }\n",
       "</style>\n",
       "<table border=\"1\" class=\"dataframe\">\n",
       "  <thead>\n",
       "    <tr style=\"text-align: right;\">\n",
       "      <th></th>\n",
       "      <th>mean_fit_time</th>\n",
       "      <th>std_fit_time</th>\n",
       "      <th>mean_score_time</th>\n",
       "      <th>std_score_time</th>\n",
       "      <th>param_random_state</th>\n",
       "      <th>params</th>\n",
       "      <th>split0_test_score</th>\n",
       "      <th>split1_test_score</th>\n",
       "      <th>split2_test_score</th>\n",
       "      <th>split3_test_score</th>\n",
       "      <th>split4_test_score</th>\n",
       "      <th>mean_test_score</th>\n",
       "      <th>std_test_score</th>\n",
       "      <th>rank_test_score</th>\n",
       "    </tr>\n",
       "  </thead>\n",
       "  <tbody>\n",
       "    <tr>\n",
       "      <th>0</th>\n",
       "      <td>69.630386</td>\n",
       "      <td>3.185798</td>\n",
       "      <td>0.045103</td>\n",
       "      <td>0.002946</td>\n",
       "      <td>3</td>\n",
       "      <td>{'random_state': 3}</td>\n",
       "      <td>0.829997</td>\n",
       "      <td>0.854939</td>\n",
       "      <td>0.8498</td>\n",
       "      <td>0.85865</td>\n",
       "      <td>0.850673</td>\n",
       "      <td>0.848812</td>\n",
       "      <td>0.009928</td>\n",
       "      <td>1</td>\n",
       "    </tr>\n",
       "  </tbody>\n",
       "</table>\n",
       "</div>"
      ],
      "text/plain": [
       "   mean_fit_time  std_fit_time  ...  std_test_score  rank_test_score\n",
       "0      69.630386      3.185798  ...        0.009928                1\n",
       "\n",
       "[1 rows x 14 columns]"
      ]
     },
     "execution_count": 29,
     "metadata": {
      "tags": []
     },
     "output_type": "execute_result"
    }
   ],
   "source": [
    "model5 = GridSearchCV(tree.DecisionTreeClassifier(),{'random_state':[3]},scoring='roc_auc',cv=5)\n",
    "model5.fit(x_train,y_train)\n",
    "df5 = pd.DataFrame(model5.cv_results_)\n",
    "df5"
   ]
  },
  {
   "cell_type": "code",
   "execution_count": 30,
   "metadata": {
    "colab": {
     "base_uri": "https://localhost:8080/",
     "height": 34
    },
    "colab_type": "code",
    "id": "RY5m_8r8og12",
    "outputId": "fbd3695d-2c22-4071-c139-f9b28ee2daef"
   },
   "outputs": [
    {
     "name": "stdout",
     "output_type": "stream",
     "text": [
      "0.8915059620197262\n"
     ]
    }
   ],
   "source": [
    "prediction = model5.predict(x_test)\n",
    "print(accuracy_score(y_test,prediction))\n",
    "Comparision.loc[len(Comparision)] = [\"Decision Tree Classifier\",accuracy_score(y_test,prediction)]"
   ]
  },
  {
   "cell_type": "code",
   "execution_count": 31,
   "metadata": {
    "colab": {
     "base_uri": "https://localhost:8080/",
     "height": 1000
    },
    "colab_type": "code",
    "id": "gqv10mBS2RFR",
    "outputId": "f7e19f70-44ee-4f07-9de1-c6fa09c9185e"
   },
   "outputs": [
    {
     "data": {
      "text/plain": [
       "[Text(232.3258091526653, 216.44256880733946, 'X[4369] <= 0.5\\ngini = 0.352\\nsamples = 6793\\nvalue = [1551, 5242]'),\n",
       " Text(193.85156250120986, 214.44770642201834, 'X[304] <= 0.257\\ngini = 0.089\\nsamples = 1223\\nvalue = [1166, 57]'),\n",
       " Text(192.30870535836596, 212.45284403669726, 'X[4129] <= 0.138\\ngini = 0.085\\nsamples = 1220\\nvalue = [1166, 54]'),\n",
       " Text(189.22299107267816, 210.45798165137614, 'X[4282] <= 0.208\\ngini = 0.08\\nsamples = 1216\\nvalue = [1165, 51]'),\n",
       " Text(187.68013392983426, 208.46311926605503, 'X[3043] <= 0.206\\ngini = 0.077\\nsamples = 1214\\nvalue = [1165, 49]'),\n",
       " Text(186.13727678699036, 206.46825688073395, 'X[2727] <= 0.217\\ngini = 0.075\\nsamples = 1212\\nvalue = [1165, 47]'),\n",
       " Text(184.59441964414646, 204.47339449541283, 'X[192] <= 0.324\\ngini = 0.072\\nsamples = 1210\\nvalue = [1165, 45]'),\n",
       " Text(183.05156250130256, 202.47853211009175, 'X[2391] <= 0.104\\ngini = 0.069\\nsamples = 1208\\nvalue = [1165, 43]'),\n",
       " Text(178.80870535848183, 200.48366972477064, 'X[2178] <= 0.325\\ngini = 0.066\\nsamples = 1205\\nvalue = [1164, 41]'),\n",
       " Text(174.95156250137208, 198.48880733944955, 'X[2837] <= 0.184\\ngini = 0.063\\nsamples = 1202\\nvalue = [1163, 39]'),\n",
       " Text(171.86584821568428, 196.49394495412844, 'X[2577] <= 0.248\\ngini = 0.06\\nsamples = 1199\\nvalue = [1162, 37]'),\n",
       " Text(170.32299107284038, 194.49908256880735, 'X[2376] <= 0.312\\ngini = 0.058\\nsamples = 1198\\nvalue = [1162, 36]'),\n",
       " Text(168.78013392999648, 192.50422018348624, 'X[117] <= 0.258\\ngini = 0.057\\nsamples = 1197\\nvalue = [1162, 35]'),\n",
       " Text(167.23727678715258, 190.50935779816513, 'X[3681] <= 0.327\\ngini = 0.055\\nsamples = 1196\\nvalue = [1162, 34]'),\n",
       " Text(165.69441964430868, 188.51449541284404, 'X[3709] <= 0.3\\ngini = 0.054\\nsamples = 1195\\nvalue = [1162, 33]'),\n",
       " Text(164.15156250146478, 186.51963302752293, 'X[3396] <= 0.216\\ngini = 0.052\\nsamples = 1194\\nvalue = [1162, 32]'),\n",
       " Text(161.06584821577698, 184.52477064220182, 'X[2971] <= 0.367\\ngini = 0.046\\nsamples = 1180\\nvalue = [1152, 28]'),\n",
       " Text(159.52299107293308, 182.52990825688073, 'X[2141] <= 0.152\\ngini = 0.045\\nsamples = 1179\\nvalue = [1152, 27]'),\n",
       " Text(157.98013393008918, 180.53504587155965, 'X[3722] <= 0.48\\ngini = 0.043\\nsamples = 1178\\nvalue = [1152, 26]'),\n",
       " Text(156.43727678724528, 178.54018348623853, 'X[1744] <= 0.556\\ngini = 0.042\\nsamples = 1177\\nvalue = [1152, 25]'),\n",
       " Text(154.89441964440138, 176.54532110091742, 'X[2271] <= 0.365\\ngini = 0.04\\nsamples = 1176\\nvalue = [1152, 24]'),\n",
       " Text(153.35156250155748, 174.55045871559633, 'X[1761] <= 0.262\\ngini = 0.038\\nsamples = 1175\\nvalue = [1152, 23]'),\n",
       " Text(151.80870535871358, 172.55559633027522, 'X[2663] <= 0.314\\ngini = 0.037\\nsamples = 1174\\nvalue = [1152, 22]'),\n",
       " Text(150.26584821586968, 170.5607339449541, 'X[715] <= 0.126\\ngini = 0.035\\nsamples = 1173\\nvalue = [1152, 21]'),\n",
       " Text(148.72299107302578, 168.56587155963302, 'X[346] <= 0.424\\ngini = 0.034\\nsamples = 1172\\nvalue = [1152, 20]'),\n",
       " Text(147.18013393018188, 166.57100917431194, 'X[1283] <= 0.22\\ngini = 0.032\\nsamples = 1171\\nvalue = [1152, 19]'),\n",
       " Text(145.63727678733798, 164.57614678899083, 'X[3187] <= 0.274\\ngini = 0.03\\nsamples = 1170\\nvalue = [1152, 18]'),\n",
       " Text(144.09441964449408, 162.5812844036697, 'X[819] <= 0.185\\ngini = 0.029\\nsamples = 1169\\nvalue = [1152, 17]'),\n",
       " Text(142.55156250165018, 160.58642201834863, 'X[707] <= 0.136\\ngini = 0.027\\nsamples = 1168\\nvalue = [1152, 16]'),\n",
       " Text(141.00870535880628, 158.59155963302752, 'X[3842] <= 0.253\\ngini = 0.025\\nsamples = 1167\\nvalue = [1152, 15]'),\n",
       " Text(139.46584821596238, 156.5966972477064, 'X[738] <= 0.15\\ngini = 0.024\\nsamples = 1166\\nvalue = [1152, 14]'),\n",
       " Text(137.92299107311848, 154.60183486238532, 'X[1080] <= 0.231\\ngini = 0.022\\nsamples = 1165\\nvalue = [1152, 13]'),\n",
       " Text(136.38013393027458, 152.60697247706423, 'X[138] <= 0.148\\ngini = 0.02\\nsamples = 1164\\nvalue = [1152, 12]'),\n",
       " Text(134.83727678743068, 150.61211009174312, 'X[2259] <= 0.144\\ngini = 0.019\\nsamples = 1163\\nvalue = [1152, 11]'),\n",
       " Text(133.29441964458678, 148.617247706422, 'X[1644] <= 0.352\\ngini = 0.017\\nsamples = 1162\\nvalue = [1152, 10]'),\n",
       " Text(131.75156250174288, 146.62238532110092, 'X[646] <= 0.237\\ngini = 0.015\\nsamples = 1161\\nvalue = [1152, 9]'),\n",
       " Text(130.20870535889898, 144.6275229357798, 'X[1648] <= 0.34\\ngini = 0.014\\nsamples = 1160\\nvalue = [1152, 8]'),\n",
       " Text(128.66584821605508, 142.6326605504587, 'X[3315] <= 0.408\\ngini = 0.012\\nsamples = 1159\\nvalue = [1152, 7]'),\n",
       " Text(127.12299107321118, 140.6377981651376, 'X[3235] <= 0.315\\ngini = 0.01\\nsamples = 1158\\nvalue = [1152, 6]'),\n",
       " Text(122.68727678753498, 138.64293577981653, 'X[1828] <= 0.108\\ngini = 0.007\\nsamples = 1151\\nvalue = [1147, 4]'),\n",
       " Text(118.44441964471426, 136.6480733944954, 'X[147] <= 0.276\\ngini = 0.005\\nsamples = 1149\\nvalue = [1146, 3]'),\n",
       " Text(114.58727678760451, 134.6532110091743, 'X[2332] <= 0.24\\ngini = 0.003\\nsamples = 1147\\nvalue = [1145, 2]'),\n",
       " Text(111.50156250191671, 132.65834862385321, 'X[2408] <= 0.208\\ngini = 0.002\\nsamples = 1145\\nvalue = [1144, 1]'),\n",
       " Text(109.95870535907281, 130.6634862385321, 'gini = 0.0\\nsamples = 1142\\nvalue = [1142, 0]'),\n",
       " Text(113.04441964476061, 130.6634862385321, 'X[3418] <= 0.193\\ngini = 0.444\\nsamples = 3\\nvalue = [2, 1]'),\n",
       " Text(111.50156250191671, 128.668623853211, 'gini = 0.0\\nsamples = 2\\nvalue = [2, 0]'),\n",
       " Text(114.58727678760451, 128.668623853211, 'gini = 0.0\\nsamples = 1\\nvalue = [0, 1]'),\n",
       " Text(117.67299107329231, 132.65834862385321, 'X[2066] <= 0.096\\ngini = 0.5\\nsamples = 2\\nvalue = [1, 1]'),\n",
       " Text(116.13013393044841, 130.6634862385321, 'gini = 0.0\\nsamples = 1\\nvalue = [1, 0]'),\n",
       " Text(119.21584821613621, 130.6634862385321, 'gini = 0.0\\nsamples = 1\\nvalue = [0, 1]'),\n",
       " Text(122.30156250182401, 134.6532110091743, 'X[147] <= 0.309\\ngini = 0.5\\nsamples = 2\\nvalue = [1, 1]'),\n",
       " Text(120.75870535898011, 132.65834862385321, 'gini = 0.0\\nsamples = 1\\nvalue = [0, 1]'),\n",
       " Text(123.84441964466791, 132.65834862385321, 'gini = 0.0\\nsamples = 1\\nvalue = [1, 0]'),\n",
       " Text(126.9301339303557, 136.6480733944954, 'X[532] <= 0.134\\ngini = 0.5\\nsamples = 2\\nvalue = [1, 1]'),\n",
       " Text(125.3872767875118, 134.6532110091743, 'gini = 0.0\\nsamples = 1\\nvalue = [0, 1]'),\n",
       " Text(128.4729910731996, 134.6532110091743, 'gini = 0.0\\nsamples = 1\\nvalue = [1, 0]'),\n",
       " Text(131.5587053588874, 138.64293577981653, 'X[1370] <= 0.051\\ngini = 0.408\\nsamples = 7\\nvalue = [5, 2]'),\n",
       " Text(130.0158482160435, 136.6480733944954, 'gini = 0.0\\nsamples = 5\\nvalue = [5, 0]'),\n",
       " Text(133.1015625017313, 136.6480733944954, 'gini = 0.0\\nsamples = 2\\nvalue = [0, 2]'),\n",
       " Text(130.20870535889898, 140.6377981651376, 'gini = 0.0\\nsamples = 1\\nvalue = [0, 1]'),\n",
       " Text(131.75156250174288, 142.6326605504587, 'gini = 0.0\\nsamples = 1\\nvalue = [0, 1]'),\n",
       " Text(133.29441964458678, 144.6275229357798, 'gini = 0.0\\nsamples = 1\\nvalue = [0, 1]'),\n",
       " Text(134.83727678743068, 146.62238532110092, 'gini = 0.0\\nsamples = 1\\nvalue = [0, 1]'),\n",
       " Text(136.38013393027458, 148.617247706422, 'gini = 0.0\\nsamples = 1\\nvalue = [0, 1]'),\n",
       " Text(137.92299107311848, 150.61211009174312, 'gini = 0.0\\nsamples = 1\\nvalue = [0, 1]'),\n",
       " Text(139.46584821596238, 152.60697247706423, 'gini = 0.0\\nsamples = 1\\nvalue = [0, 1]'),\n",
       " Text(141.00870535880628, 154.60183486238532, 'gini = 0.0\\nsamples = 1\\nvalue = [0, 1]'),\n",
       " Text(142.55156250165018, 156.5966972477064, 'gini = 0.0\\nsamples = 1\\nvalue = [0, 1]'),\n",
       " Text(144.09441964449408, 158.59155963302752, 'gini = 0.0\\nsamples = 1\\nvalue = [0, 1]'),\n",
       " Text(145.63727678733798, 160.58642201834863, 'gini = 0.0\\nsamples = 1\\nvalue = [0, 1]'),\n",
       " Text(147.18013393018188, 162.5812844036697, 'gini = 0.0\\nsamples = 1\\nvalue = [0, 1]'),\n",
       " Text(148.72299107302578, 164.57614678899083, 'gini = 0.0\\nsamples = 1\\nvalue = [0, 1]'),\n",
       " Text(150.26584821586968, 166.57100917431194, 'gini = 0.0\\nsamples = 1\\nvalue = [0, 1]'),\n",
       " Text(151.80870535871358, 168.56587155963302, 'gini = 0.0\\nsamples = 1\\nvalue = [0, 1]'),\n",
       " Text(153.35156250155748, 170.5607339449541, 'gini = 0.0\\nsamples = 1\\nvalue = [0, 1]'),\n",
       " Text(154.89441964440138, 172.55559633027522, 'gini = 0.0\\nsamples = 1\\nvalue = [0, 1]'),\n",
       " Text(156.43727678724528, 174.55045871559633, 'gini = 0.0\\nsamples = 1\\nvalue = [0, 1]'),\n",
       " Text(157.98013393008918, 176.54532110091742, 'gini = 0.0\\nsamples = 1\\nvalue = [0, 1]'),\n",
       " Text(159.52299107293308, 178.54018348623853, 'gini = 0.0\\nsamples = 1\\nvalue = [0, 1]'),\n",
       " Text(161.06584821577698, 180.53504587155965, 'gini = 0.0\\nsamples = 1\\nvalue = [0, 1]'),\n",
       " Text(162.60870535862088, 182.52990825688073, 'gini = 0.0\\nsamples = 1\\nvalue = [0, 1]'),\n",
       " Text(167.23727678715258, 184.52477064220182, 'X[3134] <= 0.046\\ngini = 0.408\\nsamples = 14\\nvalue = [10, 4]'),\n",
       " Text(165.69441964430868, 182.52990825688073, 'X[2173] <= 0.065\\ngini = 0.278\\nsamples = 12\\nvalue = [10, 2]'),\n",
       " Text(164.15156250146478, 180.53504587155965, 'gini = 0.0\\nsamples = 10\\nvalue = [10, 0]'),\n",
       " Text(167.23727678715258, 180.53504587155965, 'gini = 0.0\\nsamples = 2\\nvalue = [0, 2]'),\n",
       " Text(168.78013392999648, 182.52990825688073, 'gini = 0.0\\nsamples = 2\\nvalue = [0, 2]'),\n",
       " Text(167.23727678715258, 186.51963302752293, 'gini = 0.0\\nsamples = 1\\nvalue = [0, 1]'),\n",
       " Text(168.78013392999648, 188.51449541284404, 'gini = 0.0\\nsamples = 1\\nvalue = [0, 1]'),\n",
       " Text(170.32299107284038, 190.50935779816513, 'gini = 0.0\\nsamples = 1\\nvalue = [0, 1]'),\n",
       " Text(171.86584821568428, 192.50422018348624, 'gini = 0.0\\nsamples = 1\\nvalue = [0, 1]'),\n",
       " Text(173.40870535852818, 194.49908256880735, 'gini = 0.0\\nsamples = 1\\nvalue = [0, 1]'),\n",
       " Text(178.03727678705988, 196.49394495412844, 'X[3583] <= 0.064\\ngini = 0.444\\nsamples = 3\\nvalue = [1, 2]'),\n",
       " Text(176.49441964421598, 194.49908256880735, 'gini = 0.0\\nsamples = 2\\nvalue = [0, 2]'),\n",
       " Text(179.58013392990378, 194.49908256880735, 'gini = 0.0\\nsamples = 1\\nvalue = [1, 0]'),\n",
       " Text(182.66584821559158, 198.48880733944955, 'X[4165] <= 0.253\\ngini = 0.444\\nsamples = 3\\nvalue = [1, 2]'),\n",
       " Text(181.12299107274768, 196.49394495412844, 'gini = 0.0\\nsamples = 2\\nvalue = [0, 2]'),\n",
       " Text(184.20870535843548, 196.49394495412844, 'gini = 0.0\\nsamples = 1\\nvalue = [1, 0]'),\n",
       " Text(187.29441964412328, 200.48366972477064, 'X[2338] <= 0.141\\ngini = 0.444\\nsamples = 3\\nvalue = [1, 2]'),\n",
       " Text(185.75156250127938, 198.48880733944955, 'gini = 0.0\\nsamples = 2\\nvalue = [0, 2]'),\n",
       " Text(188.83727678696718, 198.48880733944955, 'gini = 0.0\\nsamples = 1\\nvalue = [1, 0]'),\n",
       " Text(186.13727678699036, 202.47853211009175, 'gini = 0.0\\nsamples = 2\\nvalue = [0, 2]'),\n",
       " Text(187.68013392983426, 204.47339449541283, 'gini = 0.0\\nsamples = 2\\nvalue = [0, 2]'),\n",
       " Text(189.22299107267816, 206.46825688073395, 'gini = 0.0\\nsamples = 2\\nvalue = [0, 2]'),\n",
       " Text(190.76584821552206, 208.46311926605503, 'gini = 0.0\\nsamples = 2\\nvalue = [0, 2]'),\n",
       " Text(195.39441964405376, 210.45798165137614, 'X[1958] <= 0.086\\ngini = 0.375\\nsamples = 4\\nvalue = [1, 3]'),\n",
       " Text(193.85156250120986, 208.46311926605503, 'gini = 0.0\\nsamples = 3\\nvalue = [0, 3]'),\n",
       " Text(196.93727678689766, 208.46311926605503, 'gini = 0.0\\nsamples = 1\\nvalue = [1, 0]'),\n",
       " Text(195.39441964405376, 212.45284403669726, 'gini = 0.0\\nsamples = 3\\nvalue = [0, 3]'),\n",
       " Text(270.80005580412075, 214.44770642201834, 'X[4370] <= 0.79\\ngini = 0.129\\nsamples = 5570\\nvalue = [385, 5185]'),\n",
       " Text(235.8944196437061, 212.45284403669726, 'X[3063] <= 0.113\\ngini = 0.246\\nsamples = 1332\\nvalue = [191, 1141]'),\n",
       " Text(224.9316964295145, 210.45798165137614, 'X[1230] <= 0.16\\ngini = 0.222\\nsamples = 1257\\nvalue = [160, 1097]'),\n",
       " Text(223.3888392866706, 208.46311926605503, 'X[2124] <= 0.085\\ngini = 0.217\\nsamples = 1252\\nvalue = [155, 1097]'),\n",
       " Text(221.8459821438267, 206.46825688073395, 'X[1475] <= 0.103\\ngini = 0.213\\nsamples = 1248\\nvalue = [151, 1097]'),\n",
       " Text(220.3031250009828, 204.47339449541283, 'X[4370] <= 0.163\\ngini = 0.208\\nsamples = 1244\\nvalue = [147, 1097]'),\n",
       " Text(213.4205357153276, 202.47853211009175, 'X[2152] <= 0.15\\ngini = 0.35\\nsamples = 199\\nvalue = [45, 154]'),\n",
       " Text(210.3348214296398, 200.48366972477064, 'X[3145] <= 0.064\\ngini = 0.329\\nsamples = 193\\nvalue = [40, 153]'),\n",
       " Text(208.7919642867959, 198.48880733944955, 'X[2570] <= 0.059\\ngini = 0.314\\nsamples = 190\\nvalue = [37, 153]'),\n",
       " Text(203.89821428683788, 196.49394495412844, 'X[1384] <= 0.141\\ngini = 0.293\\nsamples = 185\\nvalue = [33, 152]'),\n",
       " Text(198.7392857154536, 194.49908256880735, 'X[4227] <= 0.155\\ngini = 0.27\\nsamples = 180\\nvalue = [29, 151]'),\n",
       " Text(193.05000000121672, 192.50422018348624, 'X[3418] <= 0.103\\ngini = 0.245\\nsamples = 175\\nvalue = [25, 150]'),\n",
       " Text(186.30000000127467, 190.50935779816513, 'X[3112] <= 0.274\\ngini = 0.193\\nsamples = 157\\nvalue = [17, 140]'),\n",
       " Text(184.75714285843077, 188.51449541284404, 'X[1944] <= 0.082\\ngini = 0.175\\nsamples = 155\\nvalue = [15, 140]'),\n",
       " Text(183.21428571558687, 186.51963302752293, 'X[2425] <= 0.066\\ngini = 0.155\\nsamples = 153\\nvalue = [13, 140]'),\n",
       " Text(178.97142857276614, 184.52477064220182, 'X[1199] <= 0.085\\ngini = 0.127\\nsamples = 147\\nvalue = [10, 137]'),\n",
       " Text(175.1142857156564, 182.52990825688073, 'X[2623] <= 0.133\\ngini = 0.105\\nsamples = 144\\nvalue = [8, 136]'),\n",
       " Text(172.0285714299686, 180.53504587155965, 'X[3229] <= 0.174\\ngini = 0.081\\nsamples = 141\\nvalue = [6, 135]'),\n",
       " Text(170.4857142871247, 178.54018348623853, 'X[3671] <= 0.103\\ngini = 0.069\\nsamples = 140\\nvalue = [5, 135]'),\n",
       " Text(168.9428571442808, 176.54532110091742, 'X[2699] <= 0.329\\ngini = 0.056\\nsamples = 139\\nvalue = [4, 135]'),\n",
       " Text(167.4000000014369, 174.55045871559633, 'X[2613] <= 0.328\\ngini = 0.043\\nsamples = 138\\nvalue = [3, 135]'),\n",
       " Text(165.857142858593, 172.55559633027522, 'X[3716] <= 0.473\\ngini = 0.029\\nsamples = 137\\nvalue = [2, 135]'),\n",
       " Text(164.3142857157491, 170.5607339449541, 'X[720] <= 0.22\\ngini = 0.015\\nsamples = 136\\nvalue = [1, 135]'),\n",
       " Text(162.7714285729052, 168.56587155963302, 'gini = 0.0\\nsamples = 135\\nvalue = [0, 135]'),\n",
       " Text(165.857142858593, 168.56587155963302, 'gini = 0.0\\nsamples = 1\\nvalue = [1, 0]'),\n",
       " Text(167.4000000014369, 170.5607339449541, 'gini = 0.0\\nsamples = 1\\nvalue = [1, 0]'),\n",
       " Text(168.9428571442808, 172.55559633027522, 'gini = 0.0\\nsamples = 1\\nvalue = [1, 0]'),\n",
       " Text(170.4857142871247, 174.55045871559633, 'gini = 0.0\\nsamples = 1\\nvalue = [1, 0]'),\n",
       " Text(172.0285714299686, 176.54532110091742, 'gini = 0.0\\nsamples = 1\\nvalue = [1, 0]'),\n",
       " Text(173.5714285728125, 178.54018348623853, 'gini = 0.0\\nsamples = 1\\nvalue = [1, 0]'),\n",
       " Text(178.2000000013442, 180.53504587155965, 'X[3077] <= 0.119\\ngini = 0.444\\nsamples = 3\\nvalue = [2, 1]'),\n",
       " Text(176.6571428585003, 178.54018348623853, 'gini = 0.0\\nsamples = 2\\nvalue = [2, 0]'),\n",
       " Text(179.7428571441881, 178.54018348623853, 'gini = 0.0\\nsamples = 1\\nvalue = [0, 1]'),\n",
       " Text(182.8285714298759, 182.52990825688073, 'X[2013] <= 0.11\\ngini = 0.444\\nsamples = 3\\nvalue = [2, 1]'),\n",
       " Text(181.285714287032, 180.53504587155965, 'gini = 0.0\\nsamples = 2\\nvalue = [2, 0]'),\n",
       " Text(184.3714285727198, 180.53504587155965, 'gini = 0.0\\nsamples = 1\\nvalue = [0, 1]'),\n",
       " Text(187.4571428584076, 184.52477064220182, 'X[1321] <= 0.039\\ngini = 0.5\\nsamples = 6\\nvalue = [3, 3]'),\n",
       " Text(185.9142857155637, 182.52990825688073, 'gini = 0.0\\nsamples = 3\\nvalue = [3, 0]'),\n",
       " Text(189.0000000012515, 182.52990825688073, 'gini = 0.0\\nsamples = 3\\nvalue = [0, 3]'),\n",
       " Text(186.30000000127467, 186.51963302752293, 'gini = 0.0\\nsamples = 2\\nvalue = [2, 0]'),\n",
       " Text(187.84285714411857, 188.51449541284404, 'gini = 0.0\\nsamples = 2\\nvalue = [2, 0]'),\n",
       " Text(199.8000000011588, 190.50935779816513, 'X[2173] <= 0.03\\ngini = 0.494\\nsamples = 18\\nvalue = [8, 10]'),\n",
       " Text(198.2571428583149, 188.51449541284404, 'X[2545] <= 0.162\\ngini = 0.444\\nsamples = 15\\nvalue = [5, 10]'),\n",
       " Text(196.714285715471, 186.51963302752293, 'X[3418] <= 0.12\\ngini = 0.355\\nsamples = 13\\nvalue = [3, 10]'),\n",
       " Text(193.6285714297832, 184.52477064220182, 'X[635] <= 0.083\\ngini = 0.444\\nsamples = 3\\nvalue = [2, 1]'),\n",
       " Text(192.0857142869393, 182.52990825688073, 'gini = 0.0\\nsamples = 2\\nvalue = [2, 0]'),\n",
       " Text(195.1714285726271, 182.52990825688073, 'gini = 0.0\\nsamples = 1\\nvalue = [0, 1]'),\n",
       " Text(199.8000000011588, 184.52477064220182, 'X[3807] <= 0.256\\ngini = 0.18\\nsamples = 10\\nvalue = [1, 9]'),\n",
       " Text(198.2571428583149, 182.52990825688073, 'gini = 0.0\\nsamples = 9\\nvalue = [0, 9]'),\n",
       " Text(201.3428571440027, 182.52990825688073, 'gini = 0.0\\nsamples = 1\\nvalue = [1, 0]'),\n",
       " Text(199.8000000011588, 186.51963302752293, 'gini = 0.0\\nsamples = 2\\nvalue = [2, 0]'),\n",
       " Text(201.3428571440027, 188.51449541284404, 'gini = 0.0\\nsamples = 3\\nvalue = [3, 0]'),\n",
       " Text(204.4285714296905, 192.50422018348624, 'X[515] <= 0.131\\ngini = 0.32\\nsamples = 5\\nvalue = [4, 1]'),\n",
       " Text(202.8857142868466, 190.50935779816513, 'gini = 0.0\\nsamples = 4\\nvalue = [4, 0]'),\n",
       " Text(205.9714285725344, 190.50935779816513, 'gini = 0.0\\nsamples = 1\\nvalue = [0, 1]'),\n",
       " Text(209.0571428582222, 194.49908256880735, 'X[532] <= 0.057\\ngini = 0.32\\nsamples = 5\\nvalue = [4, 1]'),\n",
       " Text(207.5142857153783, 192.50422018348624, 'gini = 0.0\\nsamples = 4\\nvalue = [4, 0]'),\n",
       " Text(210.6000000010661, 192.50422018348624, 'gini = 0.0\\nsamples = 1\\nvalue = [0, 1]'),\n",
       " Text(213.6857142867539, 196.49394495412844, 'X[3470] <= 0.105\\ngini = 0.32\\nsamples = 5\\nvalue = [4, 1]'),\n",
       " Text(212.14285714391, 194.49908256880735, 'gini = 0.0\\nsamples = 4\\nvalue = [4, 0]'),\n",
       " Text(215.2285714295978, 194.49908256880735, 'gini = 0.0\\nsamples = 1\\nvalue = [0, 1]'),\n",
       " Text(211.8776785724837, 198.48880733944955, 'gini = 0.0\\nsamples = 3\\nvalue = [3, 0]'),\n",
       " Text(216.5062500010154, 200.48366972477064, 'X[4249] <= 0.261\\ngini = 0.278\\nsamples = 6\\nvalue = [5, 1]'),\n",
       " Text(214.9633928581715, 198.48880733944955, 'gini = 0.0\\nsamples = 5\\nvalue = [5, 0]'),\n",
       " Text(218.0491071438593, 198.48880733944955, 'gini = 0.0\\nsamples = 1\\nvalue = [0, 1]'),\n",
       " Text(227.185714286638, 202.47853211009175, 'X[2157] <= 0.267\\ngini = 0.176\\nsamples = 1045\\nvalue = [102, 943]'),\n",
       " Text(225.6428571437941, 200.48366972477064, 'X[4220] <= 0.208\\ngini = 0.171\\nsamples = 1041\\nvalue = [98, 943]'),\n",
       " Text(224.1000000009502, 198.48880733944955, 'X[3134] <= 0.371\\ngini = 0.166\\nsamples = 1038\\nvalue = [95, 943]'),\n",
       " Text(222.5571428581063, 196.49394495412844, 'X[1771] <= 0.173\\ngini = 0.162\\nsamples = 1035\\nvalue = [92, 943]'),\n",
       " Text(218.31428571528556, 194.49908256880735, 'X[635] <= 0.238\\ngini = 0.155\\nsamples = 1027\\nvalue = [87, 940]'),\n",
       " Text(214.45714285817584, 192.50422018348624, 'X[3754] <= 0.203\\ngini = 0.149\\nsamples = 1021\\nvalue = [83, 938]'),\n",
       " Text(211.37142857248804, 190.50935779816513, 'X[3303] <= 0.097\\ngini = 0.144\\nsamples = 1014\\nvalue = [79, 935]'),\n",
       " Text(209.82857142964414, 188.51449541284404, 'X[841] <= 0.23\\ngini = 0.141\\nsamples = 1012\\nvalue = [77, 935]'),\n",
       " Text(208.28571428680024, 186.51963302752293, 'X[3187] <= 0.099\\ngini = 0.137\\nsamples = 1010\\nvalue = [75, 935]'),\n",
       " Text(206.74285714395634, 184.52477064220182, 'X[960] <= 0.197\\ngini = 0.134\\nsamples = 1008\\nvalue = [73, 935]'),\n",
       " Text(205.20000000111244, 182.52990825688073, 'X[2790] <= 0.096\\ngini = 0.131\\nsamples = 1006\\nvalue = [71, 935]'),\n",
       " Text(203.65714285826854, 180.53504587155965, 'X[2222] <= 0.185\\ngini = 0.128\\nsamples = 1004\\nvalue = [69, 935]'),\n",
       " Text(197.06986607261078, 178.54018348623853, 'X[2964] <= 0.096\\ngini = 0.118\\nsamples = 983\\nvalue = [62, 921]'),\n",
       " Text(191.6095982155148, 176.54532110091742, 'X[3843] <= 0.162\\ngini = 0.113\\nsamples = 978\\nvalue = [59, 919]'),\n",
       " Text(185.31763392985454, 174.55045871559633, 'X[499] <= 0.239\\ngini = 0.106\\nsamples = 965\\nvalue = [54, 911]'),\n",
       " Text(180.44799107275347, 172.55559633027522, 'X[2920] <= 0.249\\ngini = 0.102\\nsamples = 962\\nvalue = [52, 910]'),\n",
       " Text(175.33727678708306, 170.5607339449541, 'X[3406] <= 0.186\\ngini = 0.099\\nsamples = 959\\nvalue = [50, 909]'),\n",
       " Text(169.7444196442739, 168.56587155963302, 'X[2844] <= 0.11\\ngini = 0.095\\nsamples = 956\\nvalue = [48, 908]'),\n",
       " Text(163.18727678718733, 166.57100917431194, 'X[874] <= 0.092\\ngini = 0.084\\nsamples = 928\\nvalue = [41, 887]'),\n",
       " Text(159.33013393007758, 164.57614678899083, 'X[2174] <= 0.12\\ngini = 0.081\\nsamples = 925\\nvalue = [39, 886]'),\n",
       " Text(156.24441964438978, 162.5812844036697, 'X[796] <= 0.31\\ngini = 0.075\\nsamples = 918\\nvalue = [36, 882]'),\n",
       " Text(154.70156250154588, 160.58642201834863, 'X[2092] <= 0.12\\ngini = 0.073\\nsamples = 917\\nvalue = [35, 882]'),\n",
       " Text(153.15870535870198, 158.59155963302752, 'X[3047] <= 0.322\\ngini = 0.071\\nsamples = 916\\nvalue = [34, 882]'),\n",
       " Text(151.61584821585808, 156.5966972477064, 'X[1303] <= 0.324\\ngini = 0.07\\nsamples = 915\\nvalue = [33, 882]'),\n",
       " Text(150.07299107301418, 154.60183486238532, 'X[331] <= 0.269\\ngini = 0.068\\nsamples = 914\\nvalue = [32, 882]'),\n",
       " Text(148.5301339301703, 152.60697247706423, 'X[3539] <= 0.102\\ngini = 0.066\\nsamples = 913\\nvalue = [31, 882]'),\n",
       " Text(146.9872767873264, 150.61211009174312, 'X[474] <= 0.226\\ngini = 0.064\\nsamples = 912\\nvalue = [30, 882]'),\n",
       " Text(145.4444196444825, 148.617247706422, 'X[1050] <= 0.108\\ngini = 0.062\\nsamples = 911\\nvalue = [29, 882]'),\n",
       " Text(143.9015625016386, 146.62238532110092, 'X[1814] <= 0.308\\ngini = 0.06\\nsamples = 910\\nvalue = [28, 882]'),\n",
       " Text(142.3587053587947, 144.6275229357798, 'X[2402] <= 0.35\\ngini = 0.058\\nsamples = 909\\nvalue = [27, 882]'),\n",
       " Text(140.8158482159508, 142.6326605504587, 'X[3615] <= 0.41\\ngini = 0.056\\nsamples = 908\\nvalue = [26, 882]'),\n",
       " Text(139.2729910731069, 140.6377981651376, 'X[2135] <= 0.148\\ngini = 0.054\\nsamples = 907\\nvalue = [25, 882]'),\n",
       " Text(137.730133930263, 138.64293577981653, 'X[1944] <= 0.436\\ngini = 0.052\\nsamples = 906\\nvalue = [24, 882]'),\n",
       " Text(136.1872767874191, 136.6480733944954, 'X[1922] <= 0.248\\ngini = 0.05\\nsamples = 905\\nvalue = [23, 882]'),\n",
       " Text(134.6444196445752, 134.6532110091743, 'X[2660] <= 0.472\\ngini = 0.047\\nsamples = 904\\nvalue = [22, 882]'),\n",
       " Text(133.1015625017313, 132.65834862385321, 'X[318] <= 0.573\\ngini = 0.045\\nsamples = 903\\nvalue = [21, 882]'),\n",
       " Text(131.5587053588874, 130.6634862385321, 'X[3762] <= 0.256\\ngini = 0.043\\nsamples = 902\\nvalue = [20, 882]'),\n",
       " Text(130.0158482160435, 128.668623853211, 'X[1977] <= 0.131\\ngini = 0.041\\nsamples = 901\\nvalue = [19, 882]'),\n",
       " Text(128.4729910731996, 126.6737614678899, 'X[1364] <= 0.195\\ngini = 0.039\\nsamples = 900\\nvalue = [18, 882]'),\n",
       " Text(126.9301339303557, 124.6788990825688, 'X[842] <= 0.178\\ngini = 0.037\\nsamples = 899\\nvalue = [17, 882]'),\n",
       " Text(125.3872767875118, 122.6840366972477, 'X[2403] <= 0.256\\ngini = 0.035\\nsamples = 898\\nvalue = [16, 882]'),\n",
       " Text(123.84441964466791, 120.6891743119266, 'X[2832] <= 0.366\\ngini = 0.033\\nsamples = 897\\nvalue = [15, 882]'),\n",
       " Text(122.30156250182401, 118.69431192660551, 'X[202] <= 0.205\\ngini = 0.031\\nsamples = 896\\nvalue = [14, 882]'),\n",
       " Text(120.75870535898011, 116.6994495412844, 'X[2718] <= 0.131\\ngini = 0.029\\nsamples = 895\\nvalue = [13, 882]'),\n",
       " Text(119.21584821613621, 114.7045871559633, 'X[1179] <= 0.375\\ngini = 0.026\\nsamples = 894\\nvalue = [12, 882]'),\n",
       " Text(117.67299107329231, 112.7097247706422, 'X[1801] <= 0.331\\ngini = 0.024\\nsamples = 893\\nvalue = [11, 882]'),\n",
       " Text(116.13013393044841, 110.7148623853211, 'X[3092] <= 0.22\\ngini = 0.022\\nsamples = 892\\nvalue = [10, 882]'),\n",
       " Text(114.58727678760451, 108.72, 'X[4091] <= 0.238\\ngini = 0.02\\nsamples = 891\\nvalue = [9, 882]'),\n",
       " Text(113.04441964476061, 106.7251376146789, 'X[3697] <= 0.375\\ngini = 0.018\\nsamples = 890\\nvalue = [8, 882]'),\n",
       " Text(111.50156250191671, 104.7302752293578, 'X[1945] <= 0.5\\ngini = 0.016\\nsamples = 889\\nvalue = [7, 882]'),\n",
       " Text(109.95870535907281, 102.73541284403669, 'X[2674] <= 0.306\\ngini = 0.013\\nsamples = 888\\nvalue = [6, 882]'),\n",
       " Text(108.41584821622891, 100.74055045871559, 'X[3121] <= 0.34\\ngini = 0.011\\nsamples = 887\\nvalue = [5, 882]'),\n",
       " Text(106.87299107338501, 98.74568807339449, 'X[4326] <= 0.281\\ngini = 0.009\\nsamples = 886\\nvalue = [4, 882]'),\n",
       " Text(102.63013393056428, 96.75082568807339, 'X[463] <= 0.282\\ngini = 0.007\\nsamples = 884\\nvalue = [3, 881]'),\n",
       " Text(98.77299107345453, 94.75596330275229, 'X[2157] <= 0.258\\ngini = 0.005\\nsamples = 882\\nvalue = [2, 880]'),\n",
       " Text(95.68727678776673, 92.7611009174312, 'X[3222] <= 0.253\\ngini = 0.002\\nsamples = 880\\nvalue = [1, 879]'),\n",
       " Text(94.14441964492283, 90.7662385321101, 'gini = 0.0\\nsamples = 877\\nvalue = [0, 877]'),\n",
       " Text(97.23013393061063, 90.7662385321101, 'X[4203] <= 0.067\\ngini = 0.444\\nsamples = 3\\nvalue = [1, 2]'),\n",
       " Text(95.68727678776673, 88.77137614678898, 'gini = 0.0\\nsamples = 2\\nvalue = [0, 2]'),\n",
       " Text(98.77299107345453, 88.77137614678898, 'gini = 0.0\\nsamples = 1\\nvalue = [1, 0]'),\n",
       " Text(101.85870535914233, 92.7611009174312, 'X[2465] <= 0.139\\ngini = 0.5\\nsamples = 2\\nvalue = [1, 1]'),\n",
       " Text(100.31584821629843, 90.7662385321101, 'gini = 0.0\\nsamples = 1\\nvalue = [0, 1]'),\n",
       " Text(103.40156250198623, 90.7662385321101, 'gini = 0.0\\nsamples = 1\\nvalue = [1, 0]'),\n",
       " Text(106.48727678767403, 94.75596330275229, 'X[4203] <= 0.072\\ngini = 0.5\\nsamples = 2\\nvalue = [1, 1]'),\n",
       " Text(104.94441964483013, 92.7611009174312, 'gini = 0.0\\nsamples = 1\\nvalue = [0, 1]'),\n",
       " Text(108.03013393051793, 92.7611009174312, 'gini = 0.0\\nsamples = 1\\nvalue = [1, 0]'),\n",
       " Text(111.11584821620573, 96.75082568807339, 'X[2173] <= 0.053\\ngini = 0.5\\nsamples = 2\\nvalue = [1, 1]'),\n",
       " Text(109.57299107336183, 94.75596330275229, 'gini = 0.0\\nsamples = 1\\nvalue = [1, 0]'),\n",
       " Text(112.65870535904963, 94.75596330275229, 'gini = 0.0\\nsamples = 1\\nvalue = [0, 1]'),\n",
       " Text(109.95870535907281, 98.74568807339449, 'gini = 0.0\\nsamples = 1\\nvalue = [1, 0]'),\n",
       " Text(111.50156250191671, 100.74055045871559, 'gini = 0.0\\nsamples = 1\\nvalue = [1, 0]'),\n",
       " Text(113.04441964476061, 102.73541284403669, 'gini = 0.0\\nsamples = 1\\nvalue = [1, 0]'),\n",
       " Text(114.58727678760451, 104.7302752293578, 'gini = 0.0\\nsamples = 1\\nvalue = [1, 0]'),\n",
       " Text(116.13013393044841, 106.7251376146789, 'gini = 0.0\\nsamples = 1\\nvalue = [1, 0]'),\n",
       " Text(117.67299107329231, 108.72, 'gini = 0.0\\nsamples = 1\\nvalue = [1, 0]'),\n",
       " Text(119.21584821613621, 110.7148623853211, 'gini = 0.0\\nsamples = 1\\nvalue = [1, 0]'),\n",
       " Text(120.75870535898011, 112.7097247706422, 'gini = 0.0\\nsamples = 1\\nvalue = [1, 0]'),\n",
       " Text(122.30156250182401, 114.7045871559633, 'gini = 0.0\\nsamples = 1\\nvalue = [1, 0]'),\n",
       " Text(123.84441964466791, 116.6994495412844, 'gini = 0.0\\nsamples = 1\\nvalue = [1, 0]'),\n",
       " Text(125.3872767875118, 118.69431192660551, 'gini = 0.0\\nsamples = 1\\nvalue = [1, 0]'),\n",
       " Text(126.9301339303557, 120.6891743119266, 'gini = 0.0\\nsamples = 1\\nvalue = [1, 0]'),\n",
       " Text(128.4729910731996, 122.6840366972477, 'gini = 0.0\\nsamples = 1\\nvalue = [1, 0]'),\n",
       " Text(130.0158482160435, 124.6788990825688, 'gini = 0.0\\nsamples = 1\\nvalue = [1, 0]'),\n",
       " Text(131.5587053588874, 126.6737614678899, 'gini = 0.0\\nsamples = 1\\nvalue = [1, 0]'),\n",
       " Text(133.1015625017313, 128.668623853211, 'gini = 0.0\\nsamples = 1\\nvalue = [1, 0]'),\n",
       " Text(134.6444196445752, 130.6634862385321, 'gini = 0.0\\nsamples = 1\\nvalue = [1, 0]'),\n",
       " Text(136.1872767874191, 132.65834862385321, 'gini = 0.0\\nsamples = 1\\nvalue = [1, 0]'),\n",
       " Text(137.730133930263, 134.6532110091743, 'gini = 0.0\\nsamples = 1\\nvalue = [1, 0]'),\n",
       " Text(139.2729910731069, 136.6480733944954, 'gini = 0.0\\nsamples = 1\\nvalue = [1, 0]'),\n",
       " Text(140.8158482159508, 138.64293577981653, 'gini = 0.0\\nsamples = 1\\nvalue = [1, 0]'),\n",
       " Text(142.3587053587947, 140.6377981651376, 'gini = 0.0\\nsamples = 1\\nvalue = [1, 0]'),\n",
       " Text(143.9015625016386, 142.6326605504587, 'gini = 0.0\\nsamples = 1\\nvalue = [1, 0]'),\n",
       " Text(145.4444196444825, 144.6275229357798, 'gini = 0.0\\nsamples = 1\\nvalue = [1, 0]'),\n",
       " Text(146.9872767873264, 146.62238532110092, 'gini = 0.0\\nsamples = 1\\nvalue = [1, 0]'),\n",
       " Text(148.5301339301703, 148.617247706422, 'gini = 0.0\\nsamples = 1\\nvalue = [1, 0]'),\n",
       " Text(150.07299107301418, 150.61211009174312, 'gini = 0.0\\nsamples = 1\\nvalue = [1, 0]'),\n",
       " Text(151.61584821585808, 152.60697247706423, 'gini = 0.0\\nsamples = 1\\nvalue = [1, 0]'),\n",
       " Text(153.15870535870198, 154.60183486238532, 'gini = 0.0\\nsamples = 1\\nvalue = [1, 0]'),\n",
       " Text(154.70156250154588, 156.5966972477064, 'gini = 0.0\\nsamples = 1\\nvalue = [1, 0]'),\n",
       " Text(156.24441964438978, 158.59155963302752, 'gini = 0.0\\nsamples = 1\\nvalue = [1, 0]'),\n",
       " Text(157.78727678723368, 160.58642201834863, 'gini = 0.0\\nsamples = 1\\nvalue = [1, 0]'),\n",
       " Text(162.41584821576538, 162.5812844036697, 'X[1126] <= 0.272\\ngini = 0.49\\nsamples = 7\\nvalue = [3, 4]'),\n",
       " Text(160.87299107292148, 160.58642201834863, 'X[1126] <= 0.114\\ngini = 0.48\\nsamples = 5\\nvalue = [3, 2]'),\n",
       " Text(159.33013393007758, 158.59155963302752, 'X[3224] <= 0.13\\ngini = 0.444\\nsamples = 3\\nvalue = [1, 2]'),\n",
       " Text(157.78727678723368, 156.5966972477064, 'gini = 0.0\\nsamples = 2\\nvalue = [0, 2]'),\n",
       " Text(160.87299107292148, 156.5966972477064, 'gini = 0.0\\nsamples = 1\\nvalue = [1, 0]'),\n",
       " Text(162.41584821576538, 158.59155963302752, 'gini = 0.0\\nsamples = 2\\nvalue = [2, 0]'),\n",
       " Text(163.95870535860928, 160.58642201834863, 'gini = 0.0\\nsamples = 2\\nvalue = [0, 2]'),\n",
       " Text(167.04441964429708, 164.57614678899083, 'X[1957] <= 0.063\\ngini = 0.444\\nsamples = 3\\nvalue = [2, 1]'),\n",
       " Text(165.50156250145318, 162.5812844036697, 'gini = 0.0\\nsamples = 2\\nvalue = [2, 0]'),\n",
       " Text(168.58727678714098, 162.5812844036697, 'gini = 0.0\\nsamples = 1\\nvalue = [0, 1]'),\n",
       " Text(176.30156250136048, 166.57100917431194, 'X[2502] <= 0.079\\ngini = 0.375\\nsamples = 28\\nvalue = [7, 21]'),\n",
       " Text(174.75870535851658, 164.57614678899083, 'X[3901] <= 0.107\\ngini = 0.269\\nsamples = 25\\nvalue = [4, 21]'),\n",
       " Text(171.67299107282878, 162.5812844036697, 'X[3384] <= 0.195\\ngini = 0.091\\nsamples = 21\\nvalue = [1, 20]'),\n",
       " Text(170.13013392998488, 160.58642201834863, 'gini = 0.0\\nsamples = 20\\nvalue = [0, 20]'),\n",
       " Text(173.21584821567268, 160.58642201834863, 'gini = 0.0\\nsamples = 1\\nvalue = [1, 0]'),\n",
       " Text(177.84441964420438, 162.5812844036697, 'X[2963] <= 0.096\\ngini = 0.375\\nsamples = 4\\nvalue = [3, 1]'),\n",
       " Text(176.30156250136048, 160.58642201834863, 'gini = 0.0\\nsamples = 3\\nvalue = [3, 0]'),\n",
       " Text(179.38727678704828, 160.58642201834863, 'gini = 0.0\\nsamples = 1\\nvalue = [0, 1]'),\n",
       " Text(177.84441964420438, 164.57614678899083, 'gini = 0.0\\nsamples = 3\\nvalue = [3, 0]'),\n",
       " Text(180.93013392989218, 168.56587155963302, 'X[847] <= 0.07\\ngini = 0.444\\nsamples = 3\\nvalue = [2, 1]'),\n",
       " Text(179.38727678704828, 166.57100917431194, 'gini = 0.0\\nsamples = 2\\nvalue = [2, 0]'),\n",
       " Text(182.47299107273608, 166.57100917431194, 'gini = 0.0\\nsamples = 1\\nvalue = [0, 1]'),\n",
       " Text(185.55870535842388, 170.5607339449541, 'X[1338] <= 0.105\\ngini = 0.444\\nsamples = 3\\nvalue = [2, 1]'),\n",
       " Text(184.01584821557998, 168.56587155963302, 'gini = 0.0\\nsamples = 2\\nvalue = [2, 0]'),\n",
       " Text(187.10156250126778, 168.56587155963302, 'gini = 0.0\\nsamples = 1\\nvalue = [0, 1]'),\n",
       " Text(190.18727678695558, 172.55559633027522, 'X[930] <= 0.057\\ngini = 0.444\\nsamples = 3\\nvalue = [2, 1]'),\n",
       " Text(188.64441964411168, 170.5607339449541, 'gini = 0.0\\nsamples = 1\\nvalue = [0, 1]'),\n",
       " Text(191.73013392979948, 170.5607339449541, 'gini = 0.0\\nsamples = 2\\nvalue = [2, 0]'),\n",
       " Text(197.90156250117508, 174.55045871559633, 'X[2132] <= 0.098\\ngini = 0.473\\nsamples = 13\\nvalue = [5, 8]'),\n",
       " Text(196.35870535833118, 172.55559633027522, 'X[3365] <= 0.036\\ngini = 0.469\\nsamples = 8\\nvalue = [5, 3]'),\n",
       " Text(194.81584821548728, 170.5607339449541, 'X[3971] <= 0.111\\ngini = 0.375\\nsamples = 4\\nvalue = [1, 3]'),\n",
       " Text(193.27299107264338, 168.56587155963302, 'gini = 0.0\\nsamples = 3\\nvalue = [0, 3]'),\n",
       " Text(196.35870535833118, 168.56587155963302, 'gini = 0.0\\nsamples = 1\\nvalue = [1, 0]'),\n",
       " Text(197.90156250117508, 170.5607339449541, 'gini = 0.0\\nsamples = 4\\nvalue = [4, 0]'),\n",
       " Text(199.44441964401898, 172.55559633027522, 'gini = 0.0\\nsamples = 5\\nvalue = [0, 5]'),\n",
       " Text(202.53013392970678, 176.54532110091742, 'X[3090] <= 0.082\\ngini = 0.48\\nsamples = 5\\nvalue = [3, 2]'),\n",
       " Text(200.98727678686288, 174.55045871559633, 'gini = 0.0\\nsamples = 3\\nvalue = [3, 0]'),\n",
       " Text(204.07299107255068, 174.55045871559633, 'gini = 0.0\\nsamples = 2\\nvalue = [0, 2]'),\n",
       " Text(210.24441964392628, 178.54018348623853, 'X[3365] <= 0.036\\ngini = 0.444\\nsamples = 21\\nvalue = [7, 14]'),\n",
       " Text(208.70156250108238, 176.54532110091742, 'X[3469] <= 0.083\\ngini = 0.219\\nsamples = 16\\nvalue = [2, 14]'),\n",
       " Text(207.15870535823848, 174.55045871559633, 'gini = 0.0\\nsamples = 14\\nvalue = [0, 14]'),\n",
       " Text(210.24441964392628, 174.55045871559633, 'gini = 0.0\\nsamples = 2\\nvalue = [2, 0]'),\n",
       " Text(211.78727678677018, 176.54532110091742, 'gini = 0.0\\nsamples = 5\\nvalue = [5, 0]'),\n",
       " Text(206.74285714395634, 180.53504587155965, 'gini = 0.0\\nsamples = 2\\nvalue = [2, 0]'),\n",
       " Text(208.28571428680024, 182.52990825688073, 'gini = 0.0\\nsamples = 2\\nvalue = [2, 0]'),\n",
       " Text(209.82857142964414, 184.52477064220182, 'gini = 0.0\\nsamples = 2\\nvalue = [2, 0]'),\n",
       " Text(211.37142857248804, 186.51963302752293, 'gini = 0.0\\nsamples = 2\\nvalue = [2, 0]'),\n",
       " Text(212.91428571533194, 188.51449541284404, 'gini = 0.0\\nsamples = 2\\nvalue = [2, 0]'),\n",
       " Text(217.5428571438636, 190.50935779816513, 'X[4370] <= 0.712\\ngini = 0.49\\nsamples = 7\\nvalue = [4, 3]'),\n",
       " Text(216.0000000010197, 188.51449541284404, 'gini = 0.0\\nsamples = 3\\nvalue = [0, 3]'),\n",
       " Text(219.0857142867075, 188.51449541284404, 'gini = 0.0\\nsamples = 4\\nvalue = [4, 0]'),\n",
       " Text(222.1714285723953, 192.50422018348624, 'X[3365] <= 0.11\\ngini = 0.444\\nsamples = 6\\nvalue = [4, 2]'),\n",
       " Text(220.6285714295514, 190.50935779816513, 'gini = 0.0\\nsamples = 4\\nvalue = [4, 0]'),\n",
       " Text(223.7142857152392, 190.50935779816513, 'gini = 0.0\\nsamples = 2\\nvalue = [0, 2]'),\n",
       " Text(226.800000000927, 194.49908256880735, 'X[190] <= 0.156\\ngini = 0.469\\nsamples = 8\\nvalue = [5, 3]'),\n",
       " Text(225.2571428580831, 192.50422018348624, 'gini = 0.0\\nsamples = 5\\nvalue = [5, 0]'),\n",
       " Text(228.3428571437709, 192.50422018348624, 'gini = 0.0\\nsamples = 3\\nvalue = [0, 3]'),\n",
       " Text(225.6428571437941, 196.49394495412844, 'gini = 0.0\\nsamples = 3\\nvalue = [3, 0]'),\n",
       " Text(227.185714286638, 198.48880733944955, 'gini = 0.0\\nsamples = 3\\nvalue = [3, 0]'),\n",
       " Text(228.7285714294819, 200.48366972477064, 'gini = 0.0\\nsamples = 4\\nvalue = [4, 0]'),\n",
       " Text(223.3888392866706, 204.47339449541283, 'gini = 0.0\\nsamples = 4\\nvalue = [4, 0]'),\n",
       " Text(224.9316964295145, 206.46825688073395, 'gini = 0.0\\nsamples = 4\\nvalue = [4, 0]'),\n",
       " Text(226.4745535723584, 208.46311926605503, 'gini = 0.0\\nsamples = 5\\nvalue = [5, 0]'),\n",
       " Text(246.8571428578977, 210.45798165137614, 'X[727] <= 0.13\\ngini = 0.485\\nsamples = 75\\nvalue = [31, 44]'),\n",
       " Text(245.3142857150538, 208.46311926605503, 'X[3901] <= 0.138\\ngini = 0.457\\nsamples = 68\\nvalue = [24, 44]'),\n",
       " Text(242.228571429366, 206.46825688073395, 'X[4227] <= 0.139\\ngini = 0.42\\nsamples = 60\\nvalue = [18, 42]'),\n",
       " Text(240.6857142865221, 204.47339449541283, 'X[1226] <= 0.147\\ngini = 0.388\\nsamples = 57\\nvalue = [15, 42]'),\n",
       " Text(239.1428571436782, 202.47853211009175, 'X[2642] <= 0.092\\ngini = 0.346\\nsamples = 54\\nvalue = [12, 42]'),\n",
       " Text(237.6000000008343, 200.48366972477064, 'X[602] <= 0.108\\ngini = 0.311\\nsamples = 52\\nvalue = [10, 42]'),\n",
       " Text(236.0571428579904, 198.48880733944955, 'X[1688] <= 0.112\\ngini = 0.269\\nsamples = 50\\nvalue = [8, 42]'),\n",
       " Text(234.5142857151465, 196.49394495412844, 'X[389] <= 0.084\\ngini = 0.219\\nsamples = 48\\nvalue = [6, 42]'),\n",
       " Text(232.9714285723026, 194.49908256880735, 'X[3722] <= 0.226\\ngini = 0.19\\nsamples = 47\\nvalue = [5, 42]'),\n",
       " Text(231.4285714294587, 192.50422018348624, 'X[2032] <= 0.345\\ngini = 0.159\\nsamples = 46\\nvalue = [4, 42]'),\n",
       " Text(229.8857142866148, 190.50935779816513, 'X[1524] <= 0.12\\ngini = 0.124\\nsamples = 45\\nvalue = [3, 42]'),\n",
       " Text(228.3428571437709, 188.51449541284404, 'X[2699] <= 0.132\\ngini = 0.087\\nsamples = 44\\nvalue = [2, 42]'),\n",
       " Text(226.800000000927, 186.51963302752293, 'X[2570] <= 0.288\\ngini = 0.045\\nsamples = 43\\nvalue = [1, 42]'),\n",
       " Text(225.2571428580831, 184.52477064220182, 'gini = 0.0\\nsamples = 42\\nvalue = [0, 42]'),\n",
       " Text(228.3428571437709, 184.52477064220182, 'gini = 0.0\\nsamples = 1\\nvalue = [1, 0]'),\n",
       " Text(229.8857142866148, 186.51963302752293, 'gini = 0.0\\nsamples = 1\\nvalue = [1, 0]'),\n",
       " Text(231.4285714294587, 188.51449541284404, 'gini = 0.0\\nsamples = 1\\nvalue = [1, 0]'),\n",
       " Text(232.9714285723026, 190.50935779816513, 'gini = 0.0\\nsamples = 1\\nvalue = [1, 0]'),\n",
       " Text(234.5142857151465, 192.50422018348624, 'gini = 0.0\\nsamples = 1\\nvalue = [1, 0]'),\n",
       " Text(236.0571428579904, 194.49908256880735, 'gini = 0.0\\nsamples = 1\\nvalue = [1, 0]'),\n",
       " Text(237.6000000008343, 196.49394495412844, 'gini = 0.0\\nsamples = 2\\nvalue = [2, 0]'),\n",
       " Text(239.1428571436782, 198.48880733944955, 'gini = 0.0\\nsamples = 2\\nvalue = [2, 0]'),\n",
       " Text(240.6857142865221, 200.48366972477064, 'gini = 0.0\\nsamples = 2\\nvalue = [2, 0]'),\n",
       " Text(242.228571429366, 202.47853211009175, 'gini = 0.0\\nsamples = 3\\nvalue = [3, 0]'),\n",
       " Text(243.7714285722099, 204.47339449541283, 'gini = 0.0\\nsamples = 3\\nvalue = [3, 0]'),\n",
       " Text(248.4000000007416, 206.46825688073395, 'X[352] <= 0.067\\ngini = 0.375\\nsamples = 8\\nvalue = [6, 2]'),\n",
       " Text(246.8571428578977, 204.47339449541283, 'gini = 0.0\\nsamples = 6\\nvalue = [6, 0]'),\n",
       " Text(249.9428571435855, 204.47339449541283, 'gini = 0.0\\nsamples = 2\\nvalue = [0, 2]'),\n",
       " Text(248.4000000007416, 208.46311926605503, 'gini = 0.0\\nsamples = 7\\nvalue = [7, 0]'),\n",
       " Text(305.70569196453545, 212.45284403669726, 'X[1805] <= 0.111\\ngini = 0.087\\nsamples = 4238\\nvalue = [194, 4044]'),\n",
       " Text(289.3399553575331, 210.45798165137614, 'X[3063] <= 0.093\\ngini = 0.073\\nsamples = 4068\\nvalue = [154, 3914]'),\n",
       " Text(278.2084821433429, 208.46311926605503, 'X[2475] <= 0.138\\ngini = 0.063\\nsamples = 3938\\nvalue = [129, 3809]'),\n",
       " Text(276.665625000499, 206.46825688073395, 'X[1353] <= 0.204\\ngini = 0.062\\nsamples = 3936\\nvalue = [127, 3809]'),\n",
       " Text(270.9883928576906, 204.47339449541283, 'X[2847] <= 0.223\\ngini = 0.061\\nsamples = 3928\\nvalue = [123, 3805]'),\n",
       " Text(264.2625000006055, 202.47853211009175, 'X[840] <= 0.088\\ngini = 0.059\\nsamples = 3922\\nvalue = [120, 3802]'),\n",
       " Text(258.5250000006547, 200.48366972477064, 'X[259] <= 0.153\\ngini = 0.058\\nsamples = 3916\\nvalue = [117, 3799]'),\n",
       " Text(251.67857142928491, 198.48880733944955, 'X[51] <= 0.261\\ngini = 0.055\\nsamples = 3886\\nvalue = [110, 3776]'),\n",
       " Text(250.13571428644102, 196.49394495412844, 'X[2711] <= 0.254\\ngini = 0.054\\nsamples = 3884\\nvalue = [108, 3776]'),\n",
       " Text(245.7000000007648, 194.49908256880735, 'X[3311] <= 0.12\\ngini = 0.053\\nsamples = 3881\\nvalue = [106, 3775]'),\n",
       " Text(241.45714285794406, 192.50422018348624, 'X[3998] <= 0.257\\ngini = 0.052\\nsamples = 3878\\nvalue = [104, 3774]'),\n",
       " Text(237.6000000008343, 190.50935779816513, 'X[3235] <= 0.063\\ngini = 0.051\\nsamples = 3875\\nvalue = [102, 3773]'),\n",
       " Text(234.5142857151465, 188.51449541284404, 'X[4366] <= 0.463\\ngini = 0.049\\nsamples = 3848\\nvalue = [96, 3752]'),\n",
       " Text(232.9714285723026, 186.51963302752293, 'X[2288] <= 0.152\\ngini = 0.048\\nsamples = 3847\\nvalue = [95, 3752]'),\n",
       " Text(231.4285714294587, 184.52477064220182, 'X[1200] <= 0.266\\ngini = 0.048\\nsamples = 3846\\nvalue = [94, 3752]'),\n",
       " Text(229.8857142866148, 182.52990825688073, 'X[530] <= 0.187\\ngini = 0.047\\nsamples = 3845\\nvalue = [93, 3752]'),\n",
       " Text(228.3428571437709, 180.53504587155965, 'X[2384] <= 0.498\\ngini = 0.047\\nsamples = 3844\\nvalue = [92, 3752]'),\n",
       " Text(226.800000000927, 178.54018348623853, 'X[3878] <= 0.258\\ngini = 0.046\\nsamples = 3843\\nvalue = [91, 3752]'),\n",
       " Text(225.2571428580831, 176.54532110091742, 'X[1677] <= 0.338\\ngini = 0.046\\nsamples = 3842\\nvalue = [90, 3752]'),\n",
       " Text(223.7142857152392, 174.55045871559633, 'X[1398] <= 0.214\\ngini = 0.045\\nsamples = 3841\\nvalue = [89, 3752]'),\n",
       " Text(222.1714285723953, 172.55559633027522, 'X[866] <= 0.127\\ngini = 0.045\\nsamples = 3840\\nvalue = [88, 3752]'),\n",
       " Text(220.6285714295514, 170.5607339449541, 'X[500] <= 0.294\\ngini = 0.044\\nsamples = 3839\\nvalue = [87, 3752]'),\n",
       " Text(219.0857142867075, 168.56587155963302, 'X[3970] <= 0.634\\ngini = 0.044\\nsamples = 3838\\nvalue = [86, 3752]'),\n",
       " Text(217.5428571438636, 166.57100917431194, 'X[2214] <= 0.289\\ngini = 0.043\\nsamples = 3837\\nvalue = [85, 3752]'),\n",
       " Text(216.0000000010197, 164.57614678899083, 'X[1989] <= 0.358\\ngini = 0.043\\nsamples = 3836\\nvalue = [84, 3752]'),\n",
       " Text(214.45714285817584, 162.5812844036697, 'X[976] <= 0.17\\ngini = 0.042\\nsamples = 3835\\nvalue = [83, 3752]'),\n",
       " Text(212.91428571533194, 160.58642201834863, 'X[4176] <= 0.377\\ngini = 0.042\\nsamples = 3834\\nvalue = [82, 3752]'),\n",
       " Text(211.37142857248804, 158.59155963302752, 'X[1760] <= 0.322\\ngini = 0.041\\nsamples = 3833\\nvalue = [81, 3752]'),\n",
       " Text(209.82857142964414, 156.5966972477064, 'X[896] <= 0.144\\ngini = 0.041\\nsamples = 3832\\nvalue = [80, 3752]'),\n",
       " Text(208.28571428680024, 154.60183486238532, 'X[3631] <= 0.38\\ngini = 0.04\\nsamples = 3831\\nvalue = [79, 3752]'),\n",
       " Text(206.74285714395634, 152.60697247706423, 'X[4224] <= 0.295\\ngini = 0.04\\nsamples = 3830\\nvalue = [78, 3752]'),\n",
       " Text(205.20000000111244, 150.61211009174312, 'X[1144] <= 0.117\\ngini = 0.039\\nsamples = 3829\\nvalue = [77, 3752]'),\n",
       " Text(203.65714285826854, 148.617247706422, 'X[867] <= 0.149\\ngini = 0.039\\nsamples = 3828\\nvalue = [76, 3752]'),\n",
       " Text(202.11428571542464, 146.62238532110092, 'X[1558] <= 0.305\\ngini = 0.038\\nsamples = 3827\\nvalue = [75, 3752]'),\n",
       " Text(200.57142857258074, 144.6275229357798, 'X[1299] <= 0.12\\ngini = 0.038\\nsamples = 3826\\nvalue = [74, 3752]'),\n",
       " Text(199.02857142973684, 142.6326605504587, 'X[3719] <= 0.144\\ngini = 0.037\\nsamples = 3825\\nvalue = [73, 3752]'),\n",
       " Text(197.48571428689294, 140.6377981651376, 'X[1591] <= 0.269\\ngini = 0.037\\nsamples = 3824\\nvalue = [72, 3752]'),\n",
       " Text(195.94285714404904, 138.64293577981653, 'X[2221] <= 0.177\\ngini = 0.036\\nsamples = 3823\\nvalue = [71, 3752]'),\n",
       " Text(194.40000000120514, 136.6480733944954, 'X[4288] <= 0.307\\ngini = 0.036\\nsamples = 3822\\nvalue = [70, 3752]'),\n",
       " Text(192.85714285836124, 134.6532110091743, 'X[3650] <= 0.56\\ngini = 0.035\\nsamples = 3821\\nvalue = [69, 3752]'),\n",
       " Text(191.31428571551734, 132.65834862385321, 'X[4333] <= 0.223\\ngini = 0.035\\nsamples = 3820\\nvalue = [68, 3752]'),\n",
       " Text(189.77142857267344, 130.6634862385321, 'X[1936] <= 0.25\\ngini = 0.034\\nsamples = 3819\\nvalue = [67, 3752]'),\n",
       " Text(188.22857142982954, 128.668623853211, 'X[1205] <= 0.305\\ngini = 0.034\\nsamples = 3818\\nvalue = [66, 3752]'),\n",
       " Text(186.68571428698564, 126.6737614678899, 'X[3314] <= 0.239\\ngini = 0.033\\nsamples = 3817\\nvalue = [65, 3752]'),\n",
       " Text(185.14285714414174, 124.6788990825688, 'X[3992] <= 0.301\\ngini = 0.033\\nsamples = 3816\\nvalue = [64, 3752]'),\n",
       " Text(183.60000000129784, 122.6840366972477, 'X[761] <= 0.149\\ngini = 0.032\\nsamples = 3815\\nvalue = [63, 3752]'),\n",
       " Text(182.05714285845394, 120.6891743119266, 'X[823] <= 0.276\\ngini = 0.032\\nsamples = 3814\\nvalue = [62, 3752]'),\n",
       " Text(180.51428571561004, 118.69431192660551, 'X[3875] <= 0.308\\ngini = 0.031\\nsamples = 3813\\nvalue = [61, 3752]'),\n",
       " Text(178.97142857276614, 116.6994495412844, 'X[539] <= 0.354\\ngini = 0.031\\nsamples = 3812\\nvalue = [60, 3752]'),\n",
       " Text(177.42857142992224, 114.7045871559633, 'X[2277] <= 0.315\\ngini = 0.03\\nsamples = 3811\\nvalue = [59, 3752]'),\n",
       " Text(175.88571428707834, 112.7097247706422, 'X[2309] <= 0.246\\ngini = 0.03\\nsamples = 3810\\nvalue = [58, 3752]'),\n",
       " Text(174.34285714423444, 110.7148623853211, 'X[386] <= 0.3\\ngini = 0.029\\nsamples = 3809\\nvalue = [57, 3752]'),\n",
       " Text(172.80000000139054, 108.72, 'X[2436] <= 0.122\\ngini = 0.029\\nsamples = 3808\\nvalue = [56, 3752]'),\n",
       " Text(171.25714285854664, 106.7251376146789, 'X[1822] <= 0.234\\ngini = 0.028\\nsamples = 3807\\nvalue = [55, 3752]'),\n",
       " Text(169.71428571570274, 104.7302752293578, 'X[4263] <= 0.126\\ngini = 0.028\\nsamples = 3806\\nvalue = [54, 3752]'),\n",
       " Text(168.17142857285884, 102.73541284403669, 'X[271] <= 0.281\\ngini = 0.027\\nsamples = 3805\\nvalue = [53, 3752]'),\n",
       " Text(166.62857143001494, 100.74055045871559, 'X[762] <= 0.273\\ngini = 0.027\\nsamples = 3804\\nvalue = [52, 3752]'),\n",
       " Text(165.08571428717104, 98.74568807339449, 'X[2305] <= 0.319\\ngini = 0.026\\nsamples = 3803\\nvalue = [51, 3752]'),\n",
       " Text(163.54285714432714, 96.75082568807339, 'X[3881] <= 0.231\\ngini = 0.026\\nsamples = 3802\\nvalue = [50, 3752]'),\n",
       " Text(162.00000000148324, 94.75596330275229, 'X[4093] <= 0.172\\ngini = 0.025\\nsamples = 3801\\nvalue = [49, 3752]'),\n",
       " Text(160.45714285863934, 92.7611009174312, 'X[4073] <= 0.384\\ngini = 0.025\\nsamples = 3800\\nvalue = [48, 3752]'),\n",
       " Text(158.91428571579544, 90.7662385321101, 'X[358] <= 0.125\\ngini = 0.024\\nsamples = 3799\\nvalue = [47, 3752]'),\n",
       " Text(157.37142857295154, 88.77137614678898, 'X[622] <= 0.267\\ngini = 0.024\\nsamples = 3798\\nvalue = [46, 3752]'),\n",
       " Text(155.82857143010764, 86.7765137614679, 'X[2269] <= 0.271\\ngini = 0.023\\nsamples = 3797\\nvalue = [45, 3752]'),\n",
       " Text(154.28571428726374, 84.78165137614678, 'X[874] <= 0.486\\ngini = 0.023\\nsamples = 3796\\nvalue = [44, 3752]'),\n",
       " Text(152.74285714441984, 82.7867889908257, 'X[4305] <= 0.406\\ngini = 0.022\\nsamples = 3795\\nvalue = [43, 3752]'),\n",
       " Text(151.20000000157594, 80.79192660550459, 'X[3345] <= 0.346\\ngini = 0.022\\nsamples = 3794\\nvalue = [42, 3752]'),\n",
       " Text(149.65714285873204, 78.79706422018347, 'X[397] <= 0.355\\ngini = 0.021\\nsamples = 3793\\nvalue = [41, 3752]'),\n",
       " Text(148.11428571588814, 76.80220183486239, 'X[1414] <= 0.395\\ngini = 0.021\\nsamples = 3792\\nvalue = [40, 3752]'),\n",
       " Text(146.57142857304424, 74.80733944954127, 'X[1217] <= 0.412\\ngini = 0.02\\nsamples = 3791\\nvalue = [39, 3752]'),\n",
       " Text(145.02857143020034, 72.81247706422019, 'X[2965] <= 0.342\\ngini = 0.02\\nsamples = 3790\\nvalue = [38, 3752]'),\n",
       " Text(143.48571428735644, 70.81761467889908, 'X[1091] <= 0.304\\ngini = 0.019\\nsamples = 3789\\nvalue = [37, 3752]'),\n",
       " Text(141.94285714451254, 68.82275229357799, 'X[3699] <= 0.441\\ngini = 0.019\\nsamples = 3788\\nvalue = [36, 3752]'),\n",
       " Text(140.40000000166864, 66.82788990825688, 'X[2799] <= 0.337\\ngini = 0.018\\nsamples = 3787\\nvalue = [35, 3752]'),\n",
       " Text(138.85714285882474, 64.83302752293577, 'X[432] <= 0.279\\ngini = 0.018\\nsamples = 3786\\nvalue = [34, 3752]'),\n",
       " Text(134.22857143316685, 62.83816513761468, 'X[1199] <= 0.216\\ngini = 0.016\\nsamples = 3776\\nvalue = [31, 3745]'),\n",
       " Text(129.60000001038273, 60.84330275229357, 'X[2528] <= 0.258\\ngini = 0.015\\nsamples = 3769\\nvalue = [29, 3740]'),\n",
       " Text(124.97142859334622, 58.84844036697248, 'X[2008] <= 0.125\\ngini = 0.015\\nsamples = 3767\\nvalue = [28, 3739]'),\n",
       " Text(120.3428571878049, 56.85357798165137, 'X[727] <= 0.36\\ngini = 0.014\\nsamples = 3765\\nvalue = [27, 3738]'),\n",
       " Text(115.71428580525392, 54.858715596330285, 'X[1922] <= 0.401\\ngini = 0.014\\nsamples = 3763\\nvalue = [26, 3737]'),\n",
       " Text(111.08571446868368, 52.86385321100917, 'X[438] <= 0.126\\ngini = 0.013\\nsamples = 3761\\nvalue = [25, 3736]'),\n",
       " Text(106.45714322407487, 50.86899082568806, 'X[2312] <= 0.14\\ngini = 0.013\\nsamples = 3759\\nvalue = [24, 3735]'),\n",
       " Text(101.82857216338898, 48.874128440366974, 'X[3110] <= 0.305\\ngini = 0.012\\nsamples = 3757\\nvalue = [23, 3734]'),\n",
       " Text(97.2000014705489, 46.87926605504586, 'X[2749] <= 0.392\\ngini = 0.012\\nsamples = 3755\\nvalue = [22, 3733]'),\n",
       " Text(92.57143151340043, 44.884403669724776, 'X[486] <= 0.259\\ngini = 0.011\\nsamples = 3753\\nvalue = [21, 3732]'),\n",
       " Text(87.9428630276352, 42.88954128440366, 'X[424] <= 0.123\\ngini = 0.011\\nsamples = 3751\\nvalue = [20, 3731]'),\n",
       " Text(83.31429748463643, 40.89467889908258, 'X[1582] <= 0.228\\ngini = 0.01\\nsamples = 3749\\nvalue = [19, 3730]'),\n",
       " Text(78.68573782717057, 38.899816513761465, 'X[769] <= 0.304\\ngini = 0.01\\nsamples = 3747\\nvalue = [18, 3729]'),\n",
       " Text(74.05718994077057, 36.90495412844035, 'X[3973] <= 0.449\\ngini = 0.009\\nsamples = 3745\\nvalue = [17, 3728]'),\n",
       " Text(69.42866559650227, 34.91009174311927, 'X[814] <= 0.119\\ngini = 0.009\\nsamples = 3743\\nvalue = [16, 3727]'),\n",
       " Text(64.80018833649736, 32.915229357798154, 'X[3859] <= 0.348\\ngini = 0.008\\nsamples = 3741\\nvalue = [15, 3726]'),\n",
       " Text(60.17180524501922, 30.92036697247707, 'X[3735] <= 0.146\\ngini = 0.007\\nsamples = 3739\\nvalue = [14, 3725]'),\n",
       " Text(55.54361049059466, 28.925504587155956, 'X[3174] <= 0.288\\ngini = 0.007\\nsamples = 3737\\nvalue = [13, 3724]'),\n",
       " Text(50.91579241027724, 26.93064220183487, 'X[723] <= 0.252\\ngini = 0.006\\nsamples = 3735\\nvalue = [12, 3723]'),\n",
       " Text(46.288727678174105, 24.935779816513758, 'X[305] <= 0.181\\ngini = 0.006\\nsamples = 3733\\nvalue = [11, 3722]'),\n",
       " Text(41.66316964249952, 22.940917431192645, 'X[1894] <= 0.321\\ngini = 0.005\\nsamples = 3731\\nvalue = [10, 3721]'),\n",
       " Text(37.04062499968206, 20.94605504587156, 'X[1310] <= 0.397\\ngini = 0.005\\nsamples = 3729\\nvalue = [9, 3720]'),\n",
       " Text(32.424107142578826, 18.951192660550447, 'X[1757] <= 0.395\\ngini = 0.004\\nsamples = 3727\\nvalue = [8, 3719]'),\n",
       " Text(27.819642856904064, 16.956330275229362, 'X[1533] <= 0.282\\ngini = 0.004\\nsamples = 3724\\nvalue = [7, 3717]'),\n",
       " Text(23.239285714086236, 14.96146788990825, 'X[317] <= 0.409\\ngini = 0.003\\nsamples = 3721\\nvalue = [6, 3715]'),\n",
       " Text(18.70714285698228, 12.966605504587164, 'X[117] <= 0.369\\ngini = 0.003\\nsamples = 3718\\nvalue = [5, 3713]'),\n",
       " Text(14.271428571306071, 10.971743119266051, 'X[3498] <= 0.271\\ngini = 0.002\\nsamples = 3715\\nvalue = [4, 3711]'),\n",
       " Text(10.028571428485346, 8.976880733944938, 'X[912] <= 0.336\\ngini = 0.002\\nsamples = 3712\\nvalue = [3, 3709]'),\n",
       " Text(6.171428571375598, 6.982018348623853, 'X[4164] <= 0.281\\ngini = 0.001\\nsamples = 3709\\nvalue = [2, 3707]'),\n",
       " Text(3.085714285687799, 4.98715596330274, 'X[3798] <= 0.204\\ngini = 0.001\\nsamples = 3705\\nvalue = [1, 3704]'),\n",
       " Text(1.5428571428438995, 2.9922935779816555, 'gini = 0.0\\nsamples = 3701\\nvalue = [0, 3701]'),\n",
       " Text(4.628571428531698, 2.9922935779816555, 'X[3593] <= 0.051\\ngini = 0.375\\nsamples = 4\\nvalue = [1, 3]'),\n",
       " Text(3.085714285687799, 0.9974311926605424, 'gini = 0.0\\nsamples = 3\\nvalue = [0, 3]'),\n",
       " Text(6.171428571375598, 0.9974311926605424, 'gini = 0.0\\nsamples = 1\\nvalue = [1, 0]'),\n",
       " Text(9.257142857063396, 4.98715596330274, 'X[930] <= 0.117\\ngini = 0.375\\nsamples = 4\\nvalue = [1, 3]'),\n",
       " Text(7.714285714219498, 2.9922935779816555, 'gini = 0.0\\nsamples = 3\\nvalue = [0, 3]'),\n",
       " Text(10.799999999907296, 2.9922935779816555, 'gini = 0.0\\nsamples = 1\\nvalue = [1, 0]'),\n",
       " Text(13.885714285595096, 6.982018348623853, 'X[4199] <= 0.053\\ngini = 0.444\\nsamples = 3\\nvalue = [1, 2]'),\n",
       " Text(12.342857142751196, 4.98715596330274, 'gini = 0.0\\nsamples = 2\\nvalue = [0, 2]'),\n",
       " Text(15.428571428438996, 4.98715596330274, 'gini = 0.0\\nsamples = 1\\nvalue = [1, 0]'),\n",
       " Text(18.514285714126792, 8.976880733944938, 'X[2522] <= 0.057\\ngini = 0.444\\nsamples = 3\\nvalue = [1, 2]'),\n",
       " Text(16.971428571282896, 6.982018348623853, 'gini = 0.0\\nsamples = 2\\nvalue = [0, 2]'),\n",
       " Text(20.057142856970692, 6.982018348623853, 'gini = 0.0\\nsamples = 1\\nvalue = [1, 0]'),\n",
       " Text(23.142857142658492, 10.971743119266051, 'X[3595] <= 0.094\\ngini = 0.444\\nsamples = 3\\nvalue = [1, 2]'),\n",
       " Text(21.599999999814592, 8.976880733944938, 'gini = 0.0\\nsamples = 2\\nvalue = [0, 2]'),\n",
       " Text(24.685714285502392, 8.976880733944938, 'gini = 0.0\\nsamples = 1\\nvalue = [1, 0]'),\n",
       " Text(27.771428571190192, 12.966605504587164, 'X[532] <= 0.049\\ngini = 0.444\\nsamples = 3\\nvalue = [1, 2]'),\n",
       " Text(26.228571428346292, 10.971743119266051, 'gini = 0.0\\nsamples = 2\\nvalue = [0, 2]'),\n",
       " Text(29.314285714034092, 10.971743119266051, 'gini = 0.0\\nsamples = 1\\nvalue = [1, 0]'),\n",
       " Text(32.39999999972189, 14.96146788990825, 'X[1370] <= 0.062\\ngini = 0.444\\nsamples = 3\\nvalue = [1, 2]'),\n",
       " Text(30.857142856877992, 12.966605504587164, 'gini = 0.0\\nsamples = 2\\nvalue = [0, 2]'),\n",
       " Text(33.94285714256579, 12.966605504587164, 'gini = 0.0\\nsamples = 1\\nvalue = [1, 0]'),\n",
       " Text(37.028571428253585, 16.956330275229362, 'X[1491] <= 0.155\\ngini = 0.444\\nsamples = 3\\nvalue = [1, 2]'),\n",
       " Text(35.48571428540969, 14.96146788990825, 'gini = 0.0\\nsamples = 2\\nvalue = [0, 2]'),\n",
       " Text(38.571428571097485, 14.96146788990825, 'gini = 0.0\\nsamples = 1\\nvalue = [1, 0]'),\n",
       " Text(41.657142856785285, 18.951192660550447, 'X[1611] <= 0.116\\ngini = 0.5\\nsamples = 2\\nvalue = [1, 1]'),\n",
       " Text(40.114285713941385, 16.956330275229362, 'gini = 0.0\\nsamples = 1\\nvalue = [0, 1]'),\n",
       " Text(43.199999999629185, 16.956330275229362, 'gini = 0.0\\nsamples = 1\\nvalue = [1, 0]'),\n",
       " Text(46.285714285316985, 20.94605504587156, 'X[3585] <= 0.241\\ngini = 0.5\\nsamples = 2\\nvalue = [1, 1]'),\n",
       " Text(44.742857142473085, 18.951192660550447, 'gini = 0.0\\nsamples = 1\\nvalue = [1, 0]'),\n",
       " Text(47.828571428160885, 18.951192660550447, 'gini = 0.0\\nsamples = 1\\nvalue = [0, 1]'),\n",
       " Text(50.914285713848685, 22.940917431192645, 'X[4179] <= 0.089\\ngini = 0.5\\nsamples = 2\\nvalue = [1, 1]'),\n",
       " Text(49.371428571004785, 20.94605504587156, 'gini = 0.0\\nsamples = 1\\nvalue = [1, 0]'),\n",
       " Text(52.457142856692585, 20.94605504587156, 'gini = 0.0\\nsamples = 1\\nvalue = [0, 1]'),\n",
       " Text(55.542857142380385, 24.935779816513758, 'X[1611] <= 0.059\\ngini = 0.5\\nsamples = 2\\nvalue = [1, 1]'),\n",
       " Text(53.999999999536485, 22.940917431192645, 'gini = 0.0\\nsamples = 1\\nvalue = [1, 0]'),\n",
       " Text(57.085714285224284, 22.940917431192645, 'gini = 0.0\\nsamples = 1\\nvalue = [0, 1]'),\n",
       " Text(60.171428570912084, 26.93064220183487, 'X[238] <= 0.125\\ngini = 0.5\\nsamples = 2\\nvalue = [1, 1]'),\n",
       " Text(58.628571428068184, 24.935779816513758, 'gini = 0.0\\nsamples = 1\\nvalue = [0, 1]'),\n",
       " Text(61.714285713755984, 24.935779816513758, 'gini = 0.0\\nsamples = 1\\nvalue = [1, 0]'),\n",
       " Text(64.79999999944378, 28.925504587155956, 'X[1830] <= 0.099\\ngini = 0.5\\nsamples = 2\\nvalue = [1, 1]'),\n",
       " Text(63.25714285659988, 26.93064220183487, 'gini = 0.0\\nsamples = 1\\nvalue = [1, 0]'),\n",
       " Text(66.34285714228768, 26.93064220183487, 'gini = 0.0\\nsamples = 1\\nvalue = [0, 1]'),\n",
       " Text(69.42857142797548, 30.92036697247707, 'X[2132] <= 0.053\\ngini = 0.5\\nsamples = 2\\nvalue = [1, 1]'),\n",
       " Text(67.88571428513158, 28.925504587155956, 'gini = 0.0\\nsamples = 1\\nvalue = [0, 1]'),\n",
       " Text(70.97142857081938, 28.925504587155956, 'gini = 0.0\\nsamples = 1\\nvalue = [1, 0]'),\n",
       " Text(74.05714285650717, 32.915229357798154, 'X[720] <= 0.132\\ngini = 0.5\\nsamples = 2\\nvalue = [1, 1]'),\n",
       " Text(72.51428571366328, 30.92036697247707, 'gini = 0.0\\nsamples = 1\\nvalue = [1, 0]'),\n",
       " Text(75.59999999935107, 30.92036697247707, 'gini = 0.0\\nsamples = 1\\nvalue = [0, 1]'),\n",
       " Text(78.68571428503887, 34.91009174311927, 'X[3754] <= 0.091\\ngini = 0.5\\nsamples = 2\\nvalue = [1, 1]'),\n",
       " Text(77.14285714219497, 32.915229357798154, 'gini = 0.0\\nsamples = 1\\nvalue = [0, 1]'),\n",
       " Text(80.22857142788277, 32.915229357798154, 'gini = 0.0\\nsamples = 1\\nvalue = [1, 0]'),\n",
       " Text(83.31428571357057, 36.90495412844035, 'X[4315] <= 0.089\\ngini = 0.5\\nsamples = 2\\nvalue = [1, 1]'),\n",
       " Text(81.77142857072667, 34.91009174311927, 'gini = 0.0\\nsamples = 1\\nvalue = [0, 1]'),\n",
       " Text(84.85714285641447, 34.91009174311927, 'gini = 0.0\\nsamples = 1\\nvalue = [1, 0]'),\n",
       " Text(87.94285714210227, 38.899816513761465, 'X[1674] <= 0.091\\ngini = 0.5\\nsamples = 2\\nvalue = [1, 1]'),\n",
       " Text(86.39999999925837, 36.90495412844035, 'gini = 0.0\\nsamples = 1\\nvalue = [0, 1]'),\n",
       " Text(89.48571428494617, 36.90495412844035, 'gini = 0.0\\nsamples = 1\\nvalue = [1, 0]'),\n",
       " Text(92.57142857063397, 40.89467889908258, 'X[3959] <= 0.101\\ngini = 0.5\\nsamples = 2\\nvalue = [1, 1]'),\n",
       " Text(91.02857142779007, 38.899816513761465, 'gini = 0.0\\nsamples = 1\\nvalue = [0, 1]'),\n",
       " Text(94.11428571347787, 38.899816513761465, 'gini = 0.0\\nsamples = 1\\nvalue = [1, 0]'),\n",
       " Text(97.19999999916567, 42.88954128440366, 'X[2084] <= 0.07\\ngini = 0.5\\nsamples = 2\\nvalue = [1, 1]'),\n",
       " Text(95.65714285632177, 40.89467889908258, 'gini = 0.0\\nsamples = 1\\nvalue = [1, 0]'),\n",
       " Text(98.74285714200957, 40.89467889908258, 'gini = 0.0\\nsamples = 1\\nvalue = [0, 1]'),\n",
       " Text(101.82857142769737, 44.884403669724776, 'X[304] <= 0.057\\ngini = 0.5\\nsamples = 2\\nvalue = [1, 1]'),\n",
       " Text(100.28571428485347, 42.88954128440366, 'gini = 0.0\\nsamples = 1\\nvalue = [0, 1]'),\n",
       " Text(103.37142857054127, 42.88954128440366, 'gini = 0.0\\nsamples = 1\\nvalue = [1, 0]'),\n",
       " Text(106.45714285622907, 46.87926605504586, 'X[352] <= 0.065\\ngini = 0.5\\nsamples = 2\\nvalue = [1, 1]'),\n",
       " Text(104.91428571338517, 44.884403669724776, 'gini = 0.0\\nsamples = 1\\nvalue = [0, 1]'),\n",
       " Text(107.99999999907297, 44.884403669724776, 'gini = 0.0\\nsamples = 1\\nvalue = [1, 0]'),\n",
       " Text(111.08571428476077, 48.874128440366974, 'X[3488] <= 0.131\\ngini = 0.5\\nsamples = 2\\nvalue = [1, 1]'),\n",
       " Text(109.54285714191687, 46.87926605504586, 'gini = 0.0\\nsamples = 1\\nvalue = [0, 1]'),\n",
       " Text(112.62857142760467, 46.87926605504586, 'gini = 0.0\\nsamples = 1\\nvalue = [1, 0]'),\n",
       " Text(115.71428571329247, 50.86899082568806, 'X[960] <= 0.082\\ngini = 0.5\\nsamples = 2\\nvalue = [1, 1]'),\n",
       " Text(114.17142857044857, 48.874128440366974, 'gini = 0.0\\nsamples = 1\\nvalue = [0, 1]'),\n",
       " Text(117.25714285613637, 48.874128440366974, 'gini = 0.0\\nsamples = 1\\nvalue = [1, 0]'),\n",
       " Text(120.34285714182417, 52.86385321100917, 'X[4203] <= 0.03\\ngini = 0.5\\nsamples = 2\\nvalue = [1, 1]'),\n",
       " Text(118.79999999898027, 50.86899082568806, 'gini = 0.0\\nsamples = 1\\nvalue = [0, 1]'),\n",
       " Text(121.88571428466807, 50.86899082568806, 'gini = 0.0\\nsamples = 1\\nvalue = [1, 0]'),\n",
       " Text(124.97142857035585, 54.858715596330285, 'X[3293] <= 0.091\\ngini = 0.5\\nsamples = 2\\nvalue = [1, 1]'),\n",
       " Text(123.42857142751197, 52.86385321100917, 'gini = 0.0\\nsamples = 1\\nvalue = [0, 1]'),\n",
       " Text(126.51428571319975, 52.86385321100917, 'gini = 0.0\\nsamples = 1\\nvalue = [1, 0]'),\n",
       " Text(129.59999999888757, 56.85357798165137, 'X[1321] <= 0.049\\ngini = 0.5\\nsamples = 2\\nvalue = [1, 1]'),\n",
       " Text(128.05714285604367, 54.858715596330285, 'gini = 0.0\\nsamples = 1\\nvalue = [1, 0]'),\n",
       " Text(131.14285714173147, 54.858715596330285, 'gini = 0.0\\nsamples = 1\\nvalue = [0, 1]'),\n",
       " Text(134.22857142741927, 58.84844036697248, 'X[1938] <= 0.071\\ngini = 0.5\\nsamples = 2\\nvalue = [1, 1]'),\n",
       " Text(132.68571428457537, 56.85357798165137, 'gini = 0.0\\nsamples = 1\\nvalue = [0, 1]'),\n",
       " Text(135.77142857026317, 56.85357798165137, 'gini = 0.0\\nsamples = 1\\nvalue = [1, 0]'),\n",
       " Text(138.85714285595097, 60.84330275229357, 'X[4315] <= 0.11\\ngini = 0.408\\nsamples = 7\\nvalue = [2, 5]'),\n",
       " Text(137.31428571310707, 58.84844036697248, 'gini = 0.0\\nsamples = 5\\nvalue = [0, 5]'),\n",
       " Text(140.39999999879487, 58.84844036697248, 'gini = 0.0\\nsamples = 2\\nvalue = [2, 0]'),\n",
       " Text(143.48571428448267, 62.83816513761468, 'X[2152] <= 0.105\\ngini = 0.42\\nsamples = 10\\nvalue = [3, 7]'),\n",
       " Text(141.94285714163877, 60.84330275229357, 'gini = 0.0\\nsamples = 6\\nvalue = [0, 6]'),\n",
       " Text(145.02857142732657, 60.84330275229357, 'X[4203] <= 0.067\\ngini = 0.375\\nsamples = 4\\nvalue = [3, 1]'),\n",
       " Text(143.48571428448267, 58.84844036697248, 'gini = 0.0\\nsamples = 3\\nvalue = [3, 0]'),\n",
       " Text(146.57142857017047, 58.84844036697248, 'gini = 0.0\\nsamples = 1\\nvalue = [0, 1]'),\n",
       " Text(141.94285714451254, 64.83302752293577, 'gini = 0.0\\nsamples = 1\\nvalue = [1, 0]'),\n",
       " Text(143.48571428735644, 66.82788990825688, 'gini = 0.0\\nsamples = 1\\nvalue = [1, 0]'),\n",
       " Text(145.02857143020034, 68.82275229357799, 'gini = 0.0\\nsamples = 1\\nvalue = [1, 0]'),\n",
       " Text(146.57142857304424, 70.81761467889908, 'gini = 0.0\\nsamples = 1\\nvalue = [1, 0]'),\n",
       " Text(148.11428571588814, 72.81247706422019, 'gini = 0.0\\nsamples = 1\\nvalue = [1, 0]'),\n",
       " Text(149.65714285873204, 74.80733944954127, 'gini = 0.0\\nsamples = 1\\nvalue = [1, 0]'),\n",
       " Text(151.20000000157594, 76.80220183486239, 'gini = 0.0\\nsamples = 1\\nvalue = [1, 0]'),\n",
       " Text(152.74285714441984, 78.79706422018347, 'gini = 0.0\\nsamples = 1\\nvalue = [1, 0]'),\n",
       " Text(154.28571428726374, 80.79192660550459, 'gini = 0.0\\nsamples = 1\\nvalue = [1, 0]'),\n",
       " Text(155.82857143010764, 82.7867889908257, 'gini = 0.0\\nsamples = 1\\nvalue = [1, 0]'),\n",
       " Text(157.37142857295154, 84.78165137614678, 'gini = 0.0\\nsamples = 1\\nvalue = [1, 0]'),\n",
       " Text(158.91428571579544, 86.7765137614679, 'gini = 0.0\\nsamples = 1\\nvalue = [1, 0]'),\n",
       " Text(160.45714285863934, 88.77137614678898, 'gini = 0.0\\nsamples = 1\\nvalue = [1, 0]'),\n",
       " Text(162.00000000148324, 90.7662385321101, 'gini = 0.0\\nsamples = 1\\nvalue = [1, 0]'),\n",
       " Text(163.54285714432714, 92.7611009174312, 'gini = 0.0\\nsamples = 1\\nvalue = [1, 0]'),\n",
       " Text(165.08571428717104, 94.75596330275229, 'gini = 0.0\\nsamples = 1\\nvalue = [1, 0]'),\n",
       " Text(166.62857143001494, 96.75082568807339, 'gini = 0.0\\nsamples = 1\\nvalue = [1, 0]'),\n",
       " Text(168.17142857285884, 98.74568807339449, 'gini = 0.0\\nsamples = 1\\nvalue = [1, 0]'),\n",
       " Text(169.71428571570274, 100.74055045871559, 'gini = 0.0\\nsamples = 1\\nvalue = [1, 0]'),\n",
       " Text(171.25714285854664, 102.73541284403669, 'gini = 0.0\\nsamples = 1\\nvalue = [1, 0]'),\n",
       " Text(172.80000000139054, 104.7302752293578, 'gini = 0.0\\nsamples = 1\\nvalue = [1, 0]'),\n",
       " Text(174.34285714423444, 106.7251376146789, 'gini = 0.0\\nsamples = 1\\nvalue = [1, 0]'),\n",
       " Text(175.88571428707834, 108.72, 'gini = 0.0\\nsamples = 1\\nvalue = [1, 0]'),\n",
       " Text(177.42857142992224, 110.7148623853211, 'gini = 0.0\\nsamples = 1\\nvalue = [1, 0]'),\n",
       " Text(178.97142857276614, 112.7097247706422, 'gini = 0.0\\nsamples = 1\\nvalue = [1, 0]'),\n",
       " Text(180.51428571561004, 114.7045871559633, 'gini = 0.0\\nsamples = 1\\nvalue = [1, 0]'),\n",
       " Text(182.05714285845394, 116.6994495412844, 'gini = 0.0\\nsamples = 1\\nvalue = [1, 0]'),\n",
       " Text(183.60000000129784, 118.69431192660551, 'gini = 0.0\\nsamples = 1\\nvalue = [1, 0]'),\n",
       " Text(185.14285714414174, 120.6891743119266, 'gini = 0.0\\nsamples = 1\\nvalue = [1, 0]'),\n",
       " Text(186.68571428698564, 122.6840366972477, 'gini = 0.0\\nsamples = 1\\nvalue = [1, 0]'),\n",
       " Text(188.22857142982954, 124.6788990825688, 'gini = 0.0\\nsamples = 1\\nvalue = [1, 0]'),\n",
       " Text(189.77142857267344, 126.6737614678899, 'gini = 0.0\\nsamples = 1\\nvalue = [1, 0]'),\n",
       " Text(191.31428571551734, 128.668623853211, 'gini = 0.0\\nsamples = 1\\nvalue = [1, 0]'),\n",
       " Text(192.85714285836124, 130.6634862385321, 'gini = 0.0\\nsamples = 1\\nvalue = [1, 0]'),\n",
       " Text(194.40000000120514, 132.65834862385321, 'gini = 0.0\\nsamples = 1\\nvalue = [1, 0]'),\n",
       " Text(195.94285714404904, 134.6532110091743, 'gini = 0.0\\nsamples = 1\\nvalue = [1, 0]'),\n",
       " Text(197.48571428689294, 136.6480733944954, 'gini = 0.0\\nsamples = 1\\nvalue = [1, 0]'),\n",
       " Text(199.02857142973684, 138.64293577981653, 'gini = 0.0\\nsamples = 1\\nvalue = [1, 0]'),\n",
       " Text(200.57142857258074, 140.6377981651376, 'gini = 0.0\\nsamples = 1\\nvalue = [1, 0]'),\n",
       " Text(202.11428571542464, 142.6326605504587, 'gini = 0.0\\nsamples = 1\\nvalue = [1, 0]'),\n",
       " Text(203.65714285826854, 144.6275229357798, 'gini = 0.0\\nsamples = 1\\nvalue = [1, 0]'),\n",
       " Text(205.20000000111244, 146.62238532110092, 'gini = 0.0\\nsamples = 1\\nvalue = [1, 0]'),\n",
       " Text(206.74285714395634, 148.617247706422, 'gini = 0.0\\nsamples = 1\\nvalue = [1, 0]'),\n",
       " Text(208.28571428680024, 150.61211009174312, 'gini = 0.0\\nsamples = 1\\nvalue = [1, 0]'),\n",
       " Text(209.82857142964414, 152.60697247706423, 'gini = 0.0\\nsamples = 1\\nvalue = [1, 0]'),\n",
       " Text(211.37142857248804, 154.60183486238532, 'gini = 0.0\\nsamples = 1\\nvalue = [1, 0]'),\n",
       " Text(212.91428571533194, 156.5966972477064, 'gini = 0.0\\nsamples = 1\\nvalue = [1, 0]'),\n",
       " Text(214.45714285817584, 158.59155963302752, 'gini = 0.0\\nsamples = 1\\nvalue = [1, 0]'),\n",
       " Text(216.0000000010197, 160.58642201834863, 'gini = 0.0\\nsamples = 1\\nvalue = [1, 0]'),\n",
       " Text(217.5428571438636, 162.5812844036697, 'gini = 0.0\\nsamples = 1\\nvalue = [1, 0]'),\n",
       " Text(219.0857142867075, 164.57614678899083, 'gini = 0.0\\nsamples = 1\\nvalue = [1, 0]'),\n",
       " Text(220.6285714295514, 166.57100917431194, 'gini = 0.0\\nsamples = 1\\nvalue = [1, 0]'),\n",
       " Text(222.1714285723953, 168.56587155963302, 'gini = 0.0\\nsamples = 1\\nvalue = [1, 0]'),\n",
       " Text(223.7142857152392, 170.5607339449541, 'gini = 0.0\\nsamples = 1\\nvalue = [1, 0]'),\n",
       " Text(225.2571428580831, 172.55559633027522, 'gini = 0.0\\nsamples = 1\\nvalue = [1, 0]'),\n",
       " Text(226.800000000927, 174.55045871559633, 'gini = 0.0\\nsamples = 1\\nvalue = [1, 0]'),\n",
       " Text(228.3428571437709, 176.54532110091742, 'gini = 0.0\\nsamples = 1\\nvalue = [1, 0]'),\n",
       " Text(229.8857142866148, 178.54018348623853, 'gini = 0.0\\nsamples = 1\\nvalue = [1, 0]'),\n",
       " Text(231.4285714294587, 180.53504587155965, 'gini = 0.0\\nsamples = 1\\nvalue = [1, 0]'),\n",
       " Text(232.9714285723026, 182.52990825688073, 'gini = 0.0\\nsamples = 1\\nvalue = [1, 0]'),\n",
       " Text(234.5142857151465, 184.52477064220182, 'gini = 0.0\\nsamples = 1\\nvalue = [1, 0]'),\n",
       " Text(236.0571428579904, 186.51963302752293, 'gini = 0.0\\nsamples = 1\\nvalue = [1, 0]'),\n",
       " Text(240.6857142865221, 188.51449541284404, 'X[2850] <= 0.056\\ngini = 0.346\\nsamples = 27\\nvalue = [6, 21]'),\n",
       " Text(239.1428571436782, 186.51963302752293, 'X[1564] <= 0.128\\ngini = 0.219\\nsamples = 24\\nvalue = [3, 21]'),\n",
       " Text(237.6000000008343, 184.52477064220182, 'X[2541] <= 0.22\\ngini = 0.159\\nsamples = 23\\nvalue = [2, 21]'),\n",
       " Text(236.0571428579904, 182.52990825688073, 'X[3457] <= 0.047\\ngini = 0.087\\nsamples = 22\\nvalue = [1, 21]'),\n",
       " Text(234.5142857151465, 180.53504587155965, 'gini = 0.0\\nsamples = 21\\nvalue = [0, 21]'),\n",
       " Text(237.6000000008343, 180.53504587155965, 'gini = 0.0\\nsamples = 1\\nvalue = [1, 0]'),\n",
       " Text(239.1428571436782, 182.52990825688073, 'gini = 0.0\\nsamples = 1\\nvalue = [1, 0]'),\n",
       " Text(240.6857142865221, 184.52477064220182, 'gini = 0.0\\nsamples = 1\\nvalue = [1, 0]'),\n",
       " Text(242.228571429366, 186.51963302752293, 'gini = 0.0\\nsamples = 3\\nvalue = [3, 0]'),\n",
       " Text(245.3142857150538, 190.50935779816513, 'X[4155] <= 0.162\\ngini = 0.444\\nsamples = 3\\nvalue = [2, 1]'),\n",
       " Text(243.7714285722099, 188.51449541284404, 'gini = 0.0\\nsamples = 2\\nvalue = [2, 0]'),\n",
       " Text(246.8571428578977, 188.51449541284404, 'gini = 0.0\\nsamples = 1\\nvalue = [0, 1]'),\n",
       " Text(249.9428571435855, 192.50422018348624, 'X[141] <= 0.083\\ngini = 0.444\\nsamples = 3\\nvalue = [2, 1]'),\n",
       " Text(248.4000000007416, 190.50935779816513, 'gini = 0.0\\nsamples = 2\\nvalue = [2, 0]'),\n",
       " Text(251.4857142864294, 190.50935779816513, 'gini = 0.0\\nsamples = 1\\nvalue = [0, 1]'),\n",
       " Text(254.5714285721172, 194.49908256880735, 'X[3259] <= 0.093\\ngini = 0.444\\nsamples = 3\\nvalue = [2, 1]'),\n",
       " Text(253.0285714292733, 192.50422018348624, 'gini = 0.0\\nsamples = 2\\nvalue = [2, 0]'),\n",
       " Text(256.1142857149611, 192.50422018348624, 'gini = 0.0\\nsamples = 1\\nvalue = [0, 1]'),\n",
       " Text(253.22142857212881, 196.49394495412844, 'gini = 0.0\\nsamples = 2\\nvalue = [2, 0]'),\n",
       " Text(265.3714285720245, 198.48880733944955, 'X[1585] <= 0.156\\ngini = 0.358\\nsamples = 30\\nvalue = [7, 23]'),\n",
       " Text(263.8285714291806, 196.49394495412844, 'X[252] <= 0.099\\ngini = 0.252\\nsamples = 27\\nvalue = [4, 23]'),\n",
       " Text(260.7428571434928, 194.49908256880735, 'X[560] <= 0.164\\ngini = 0.153\\nsamples = 24\\nvalue = [2, 22]'),\n",
       " Text(259.2000000006489, 192.50422018348624, 'X[52] <= 0.075\\ngini = 0.083\\nsamples = 23\\nvalue = [1, 22]'),\n",
       " Text(257.657142857805, 190.50935779816513, 'gini = 0.0\\nsamples = 22\\nvalue = [0, 22]'),\n",
       " Text(260.7428571434928, 190.50935779816513, 'gini = 0.0\\nsamples = 1\\nvalue = [1, 0]'),\n",
       " Text(262.2857142863367, 192.50422018348624, 'gini = 0.0\\nsamples = 1\\nvalue = [1, 0]'),\n",
       " Text(266.9142857148684, 194.49908256880735, 'X[2469] <= 0.072\\ngini = 0.444\\nsamples = 3\\nvalue = [2, 1]'),\n",
       " Text(265.3714285720245, 192.50422018348624, 'gini = 0.0\\nsamples = 2\\nvalue = [2, 0]'),\n",
       " Text(268.4571428577123, 192.50422018348624, 'gini = 0.0\\nsamples = 1\\nvalue = [0, 1]'),\n",
       " Text(266.9142857148684, 196.49394495412844, 'gini = 0.0\\nsamples = 3\\nvalue = [3, 0]'),\n",
       " Text(270.0000000005562, 200.48366972477064, 'X[1403] <= 0.074\\ngini = 0.5\\nsamples = 6\\nvalue = [3, 3]'),\n",
       " Text(268.4571428577123, 198.48880733944955, 'gini = 0.0\\nsamples = 3\\nvalue = [3, 0]'),\n",
       " Text(271.5428571434001, 198.48880733944955, 'gini = 0.0\\nsamples = 3\\nvalue = [0, 3]'),\n",
       " Text(277.7142857147757, 202.47853211009175, 'X[389] <= 0.068\\ngini = 0.5\\nsamples = 6\\nvalue = [3, 3]'),\n",
       " Text(276.1714285719318, 200.48366972477064, 'X[864] <= 0.154\\ngini = 0.375\\nsamples = 4\\nvalue = [3, 1]'),\n",
       " Text(274.6285714290879, 198.48880733944955, 'gini = 0.0\\nsamples = 3\\nvalue = [3, 0]'),\n",
       " Text(277.7142857147757, 198.48880733944955, 'gini = 0.0\\nsamples = 1\\nvalue = [0, 1]'),\n",
       " Text(279.2571428576196, 200.48366972477064, 'gini = 0.0\\nsamples = 2\\nvalue = [0, 2]'),\n",
       " Text(282.3428571433074, 204.47339449541283, 'X[4370] <= 0.894\\ngini = 0.5\\nsamples = 8\\nvalue = [4, 4]'),\n",
       " Text(280.8000000004635, 202.47853211009175, 'gini = 0.0\\nsamples = 4\\nvalue = [4, 0]'),\n",
       " Text(283.8857142861513, 202.47853211009175, 'gini = 0.0\\nsamples = 4\\nvalue = [0, 4]'),\n",
       " Text(279.7513392861868, 206.46825688073395, 'gini = 0.0\\nsamples = 2\\nvalue = [2, 0]'),\n",
       " Text(300.4714285717232, 208.46311926605503, 'X[96] <= 0.135\\ngini = 0.311\\nsamples = 130\\nvalue = [25, 105]'),\n",
       " Text(295.45714285748056, 206.46825688073395, 'X[1619] <= 0.102\\ngini = 0.28\\nsamples = 125\\nvalue = [21, 104]'),\n",
       " Text(290.0571428575269, 204.47339449541283, 'X[2107] <= 0.173\\ngini = 0.236\\nsamples = 117\\nvalue = [16, 101]'),\n",
       " Text(286.9714285718391, 202.47853211009175, 'X[3396] <= 0.148\\ngini = 0.204\\nsamples = 113\\nvalue = [13, 100]'),\n",
       " Text(285.4285714289952, 200.48366972477064, 'X[2260] <= 0.118\\ngini = 0.179\\nsamples = 111\\nvalue = [11, 100]'),\n",
       " Text(282.3428571433074, 198.48880733944955, 'X[2556] <= 0.099\\ngini = 0.126\\nsamples = 104\\nvalue = [7, 97]'),\n",
       " Text(280.8000000004635, 196.49394495412844, 'X[1207] <= 0.076\\ngini = 0.11\\nsamples = 103\\nvalue = [6, 97]'),\n",
       " Text(279.2571428576196, 194.49908256880735, 'X[1791] <= 0.103\\ngini = 0.093\\nsamples = 102\\nvalue = [5, 97]'),\n",
       " Text(277.7142857147757, 192.50422018348624, 'X[3583] <= 0.158\\ngini = 0.076\\nsamples = 101\\nvalue = [4, 97]'),\n",
       " Text(276.1714285719318, 190.50935779816513, 'X[1212] <= 0.12\\ngini = 0.058\\nsamples = 100\\nvalue = [3, 97]'),\n",
       " Text(274.6285714290879, 188.51449541284404, 'X[2111] <= 0.165\\ngini = 0.04\\nsamples = 99\\nvalue = [2, 97]'),\n",
       " Text(273.085714286244, 186.51963302752293, 'X[3405] <= 0.161\\ngini = 0.02\\nsamples = 98\\nvalue = [1, 97]'),\n",
       " Text(271.5428571434001, 184.52477064220182, 'gini = 0.0\\nsamples = 97\\nvalue = [0, 97]'),\n",
       " Text(274.6285714290879, 184.52477064220182, 'gini = 0.0\\nsamples = 1\\nvalue = [1, 0]'),\n",
       " Text(276.1714285719318, 186.51963302752293, 'gini = 0.0\\nsamples = 1\\nvalue = [1, 0]'),\n",
       " Text(277.7142857147757, 188.51449541284404, 'gini = 0.0\\nsamples = 1\\nvalue = [1, 0]'),\n",
       " Text(279.2571428576196, 190.50935779816513, 'gini = 0.0\\nsamples = 1\\nvalue = [1, 0]'),\n",
       " Text(280.8000000004635, 192.50422018348624, 'gini = 0.0\\nsamples = 1\\nvalue = [1, 0]'),\n",
       " Text(282.3428571433074, 194.49908256880735, 'gini = 0.0\\nsamples = 1\\nvalue = [1, 0]'),\n",
       " Text(283.8857142861513, 196.49394495412844, 'gini = 0.0\\nsamples = 1\\nvalue = [1, 0]'),\n",
       " Text(288.514285714683, 198.48880733944955, 'X[3063] <= 0.17\\ngini = 0.49\\nsamples = 7\\nvalue = [4, 3]'),\n",
       " Text(286.9714285718391, 196.49394495412844, 'X[2042] <= 0.116\\ngini = 0.32\\nsamples = 5\\nvalue = [4, 1]'),\n",
       " Text(285.4285714289952, 194.49908256880735, 'gini = 0.0\\nsamples = 4\\nvalue = [4, 0]'),\n",
       " Text(288.514285714683, 194.49908256880735, 'gini = 0.0\\nsamples = 1\\nvalue = [0, 1]'),\n",
       " Text(290.0571428575269, 196.49394495412844, 'gini = 0.0\\nsamples = 2\\nvalue = [0, 2]'),\n",
       " Text(288.514285714683, 200.48366972477064, 'gini = 0.0\\nsamples = 2\\nvalue = [2, 0]'),\n",
       " Text(293.1428571432147, 202.47853211009175, 'X[2963] <= 0.145\\ngini = 0.375\\nsamples = 4\\nvalue = [3, 1]'),\n",
       " Text(291.6000000003708, 200.48366972477064, 'gini = 0.0\\nsamples = 3\\nvalue = [3, 0]'),\n",
       " Text(294.6857142860586, 200.48366972477064, 'gini = 0.0\\nsamples = 1\\nvalue = [0, 1]'),\n",
       " Text(300.8571428574342, 204.47339449541283, 'X[2702] <= 0.072\\ngini = 0.469\\nsamples = 8\\nvalue = [5, 3]'),\n",
       " Text(299.3142857145903, 202.47853211009175, 'X[3063] <= 0.167\\ngini = 0.278\\nsamples = 6\\nvalue = [5, 1]'),\n",
       " Text(297.7714285717464, 200.48366972477064, 'gini = 0.0\\nsamples = 5\\nvalue = [5, 0]'),\n",
       " Text(300.8571428574342, 200.48366972477064, 'gini = 0.0\\nsamples = 1\\nvalue = [0, 1]'),\n",
       " Text(302.4000000002781, 202.47853211009175, 'gini = 0.0\\nsamples = 2\\nvalue = [0, 2]'),\n",
       " Text(305.4857142859659, 206.46825688073395, 'X[2445] <= 0.083\\ngini = 0.32\\nsamples = 5\\nvalue = [4, 1]'),\n",
       " Text(303.942857143122, 204.47339449541283, 'gini = 0.0\\nsamples = 4\\nvalue = [4, 0]'),\n",
       " Text(307.0285714288098, 204.47339449541283, 'gini = 0.0\\nsamples = 1\\nvalue = [0, 1]'),\n",
       " Text(322.0714285715378, 210.45798165137614, 'X[1126] <= 0.141\\ngini = 0.36\\nsamples = 170\\nvalue = [40, 130]'),\n",
       " Text(315.51428571445126, 208.46311926605503, 'X[3146] <= 0.077\\ngini = 0.279\\nsamples = 131\\nvalue = [22, 109]'),\n",
       " Text(313.97142857160736, 206.46825688073395, 'X[1428] <= 0.121\\ngini = 0.253\\nsamples = 128\\nvalue = [19, 109]'),\n",
       " Text(310.1142857144976, 204.47339449541283, 'X[1389] <= 0.151\\ngini = 0.216\\nsamples = 122\\nvalue = [15, 107]'),\n",
       " Text(307.0285714288098, 202.47853211009175, 'X[930] <= 0.243\\ngini = 0.183\\nsamples = 118\\nvalue = [12, 106]'),\n",
       " Text(305.4857142859659, 200.48366972477064, 'X[2261] <= 0.19\\ngini = 0.158\\nsamples = 116\\nvalue = [10, 106]'),\n",
       " Text(303.942857143122, 198.48880733944955, 'X[1310] <= 0.144\\ngini = 0.131\\nsamples = 114\\nvalue = [8, 106]'),\n",
       " Text(300.08571428601226, 196.49394495412844, 'X[635] <= 0.145\\ngini = 0.102\\nsamples = 111\\nvalue = [6, 105]'),\n",
       " Text(297.00000000032446, 194.49908256880735, 'X[1588] <= 0.107\\ngini = 0.071\\nsamples = 108\\nvalue = [4, 104]'),\n",
       " Text(295.45714285748056, 192.50422018348624, 'X[2088] <= 0.193\\ngini = 0.055\\nsamples = 107\\nvalue = [3, 104]'),\n",
       " Text(293.91428571463666, 190.50935779816513, 'X[2590] <= 0.108\\ngini = 0.037\\nsamples = 106\\nvalue = [2, 104]'),\n",
       " Text(292.37142857179276, 188.51449541284404, 'X[1611] <= 0.175\\ngini = 0.019\\nsamples = 105\\nvalue = [1, 104]'),\n",
       " Text(290.82857142894886, 186.51963302752293, 'gini = 0.0\\nsamples = 104\\nvalue = [0, 104]'),\n",
       " Text(293.91428571463666, 186.51963302752293, 'gini = 0.0\\nsamples = 1\\nvalue = [1, 0]'),\n",
       " Text(295.45714285748056, 188.51449541284404, 'gini = 0.0\\nsamples = 1\\nvalue = [1, 0]'),\n",
       " Text(297.00000000032446, 190.50935779816513, 'gini = 0.0\\nsamples = 1\\nvalue = [1, 0]'),\n",
       " Text(298.54285714316836, 192.50422018348624, 'gini = 0.0\\nsamples = 1\\nvalue = [1, 0]'),\n",
       " Text(303.17142857170006, 194.49908256880735, 'X[2893] <= 0.065\\ngini = 0.444\\nsamples = 3\\nvalue = [2, 1]'),\n",
       " Text(301.62857142885616, 192.50422018348624, 'gini = 0.0\\nsamples = 2\\nvalue = [2, 0]'),\n",
       " Text(304.71428571454396, 192.50422018348624, 'gini = 0.0\\nsamples = 1\\nvalue = [0, 1]'),\n",
       " Text(307.80000000023176, 196.49394495412844, 'X[1805] <= 0.204\\ngini = 0.444\\nsamples = 3\\nvalue = [2, 1]'),\n",
       " Text(306.25714285738786, 194.49908256880735, 'gini = 0.0\\nsamples = 2\\nvalue = [2, 0]'),\n",
       " Text(309.34285714307566, 194.49908256880735, 'gini = 0.0\\nsamples = 1\\nvalue = [0, 1]'),\n",
       " Text(307.0285714288098, 198.48880733944955, 'gini = 0.0\\nsamples = 2\\nvalue = [2, 0]'),\n",
       " Text(308.5714285716537, 200.48366972477064, 'gini = 0.0\\nsamples = 2\\nvalue = [2, 0]'),\n",
       " Text(313.2000000001854, 202.47853211009175, 'X[748] <= 0.059\\ngini = 0.375\\nsamples = 4\\nvalue = [3, 1]'),\n",
       " Text(311.6571428573415, 200.48366972477064, 'gini = 0.0\\nsamples = 3\\nvalue = [3, 0]'),\n",
       " Text(314.7428571430293, 200.48366972477064, 'gini = 0.0\\nsamples = 1\\nvalue = [0, 1]'),\n",
       " Text(317.8285714287171, 204.47339449541283, 'X[1428] <= 0.167\\ngini = 0.444\\nsamples = 6\\nvalue = [4, 2]'),\n",
       " Text(316.2857142858732, 202.47853211009175, 'gini = 0.0\\nsamples = 3\\nvalue = [3, 0]'),\n",
       " Text(319.371428571561, 202.47853211009175, 'X[3235] <= 0.172\\ngini = 0.444\\nsamples = 3\\nvalue = [1, 2]'),\n",
       " Text(317.8285714287171, 200.48366972477064, 'gini = 0.0\\nsamples = 2\\nvalue = [0, 2]'),\n",
       " Text(320.9142857144049, 200.48366972477064, 'gini = 0.0\\nsamples = 1\\nvalue = [1, 0]'),\n",
       " Text(317.05714285729516, 206.46825688073395, 'gini = 0.0\\nsamples = 3\\nvalue = [3, 0]'),\n",
       " Text(328.6285714286244, 208.46311926605503, 'X[4199] <= 0.053\\ngini = 0.497\\nsamples = 39\\nvalue = [18, 21]'),\n",
       " Text(325.5428571429366, 206.46825688073395, 'X[389] <= 0.065\\ngini = 0.436\\nsamples = 28\\nvalue = [9, 19]'),\n",
       " Text(324.0000000000927, 204.47339449541283, 'X[4370] <= 0.828\\ngini = 0.33\\nsamples = 24\\nvalue = [5, 19]'),\n",
       " Text(322.4571428572488, 202.47853211009175, 'gini = 0.0\\nsamples = 3\\nvalue = [3, 0]'),\n",
       " Text(325.5428571429366, 202.47853211009175, 'X[2670] <= 0.103\\ngini = 0.172\\nsamples = 21\\nvalue = [2, 19]'),\n",
       " Text(324.0000000000927, 200.48366972477064, 'gini = 0.0\\nsamples = 18\\nvalue = [0, 18]'),\n",
       " Text(327.0857142857805, 200.48366972477064, 'X[2972] <= 0.086\\ngini = 0.444\\nsamples = 3\\nvalue = [2, 1]'),\n",
       " Text(325.5428571429366, 198.48880733944955, 'gini = 0.0\\nsamples = 2\\nvalue = [2, 0]'),\n",
       " Text(328.6285714286244, 198.48880733944955, 'gini = 0.0\\nsamples = 1\\nvalue = [0, 1]'),\n",
       " Text(327.0857142857805, 204.47339449541283, 'gini = 0.0\\nsamples = 4\\nvalue = [4, 0]'),\n",
       " Text(331.7142857143122, 206.46825688073395, 'X[1254] <= 0.055\\ngini = 0.298\\nsamples = 11\\nvalue = [9, 2]'),\n",
       " Text(330.1714285714683, 204.47339449541283, 'gini = 0.0\\nsamples = 9\\nvalue = [9, 0]'),\n",
       " Text(333.2571428571561, 204.47339449541283, 'gini = 0.0\\nsamples = 2\\nvalue = [0, 2]')]"
      ]
     },
     "execution_count": 31,
     "metadata": {
      "tags": []
     },
     "output_type": "execute_result"
    },
    {
     "data": {
      "image/png": "[encoded data removed]",
      "text/plain": [
       "<Figure size 432x288 with 1 Axes>"
      ]
     },
     "metadata": {
      "needs_background": "light",
      "tags": []
     },
     "output_type": "display_data"
    }
   ],
   "source": [
    " tree.plot_tree(tree.DecisionTreeClassifier().fit(x_test, y_test)) "
   ]
  },
  {
   "cell_type": "code",
   "execution_count": 32,
   "metadata": {
    "colab": {
     "base_uri": "https://localhost:8080/",
     "height": 572
    },
    "colab_type": "code",
    "id": "ote2P6emEfgb",
    "outputId": "d07826b3-5172-4691-e152-3712afa2250a"
   },
   "outputs": [
    {
     "data": {
      "text/plain": [
       "<matplotlib.legend.Legend at 0x7ff49d6e4d68>"
      ]
     },
     "execution_count": 32,
     "metadata": {
      "tags": []
     },
     "output_type": "execute_result"
    },
    {
     "data": {
      "image/png": "[encoded data removed]",
      "text/plain": [
       "<Figure size 600x600 with 1 Axes>"
      ]
     },
     "metadata": {
      "needs_background": "light",
      "tags": []
     },
     "output_type": "display_data"
    }
   ],
   "source": [
    "prediction = model5.predict(x_test)\n",
    "fpr,tpr,_ = roc_curve(y_test,prediction)\n",
    "roc_auc = auc(fpr,tpr)\n",
    "plt.figure(figsize=(6,6),dpi=100)\n",
    "plt.plot(fpr, tpr, color='darkorange', lw=4, label='ROC curve (area = %0.2f)' %roc_auc)\n",
    "plt.plot([0, 1], [0, 1], color='navy', lw=4, linestyle='--',label='No Classifier')\n",
    "plt.xlim([-0.01, 1.0])\n",
    "plt.ylim([-0.01, 1.05])\n",
    "plt.xlabel('False Positive Rate')\n",
    "plt.ylabel('True Positive Rate')\n",
    "plt.title('Decision Tree Classifier')\n",
    "plt.legend(loc='lower right', fontsize=13)"
   ]
  },
  {
   "cell_type": "markdown",
   "metadata": {
    "colab_type": "text",
    "id": "bzYYAVgH2_Yn"
   },
   "source": [
    "# **Random Forest Classifier** "
   ]
  },
  {
   "cell_type": "code",
   "execution_count": 0,
   "metadata": {
    "colab": {},
    "colab_type": "code",
    "id": "3E5dYT9J2-50"
   },
   "outputs": [],
   "source": [
    " from sklearn.ensemble import RandomForestClassifier"
   ]
  },
  {
   "cell_type": "code",
   "execution_count": 34,
   "metadata": {
    "colab": {
     "base_uri": "https://localhost:8080/",
     "height": 320
    },
    "colab_type": "code",
    "id": "GBM9W9s23poI",
    "outputId": "bf565eb7-c158-4236-e147-d8446235cb1a"
   },
   "outputs": [
    {
     "data": {
      "text/html": [
       "<div>\n",
       "<style scoped>\n",
       "    .dataframe tbody tr th:only-of-type {\n",
       "        vertical-align: middle;\n",
       "    }\n",
       "\n",
       "    .dataframe tbody tr th {\n",
       "        vertical-align: top;\n",
       "    }\n",
       "\n",
       "    .dataframe thead th {\n",
       "        text-align: right;\n",
       "    }\n",
       "</style>\n",
       "<table border=\"1\" class=\"dataframe\">\n",
       "  <thead>\n",
       "    <tr style=\"text-align: right;\">\n",
       "      <th></th>\n",
       "      <th>mean_fit_time</th>\n",
       "      <th>std_fit_time</th>\n",
       "      <th>mean_score_time</th>\n",
       "      <th>std_score_time</th>\n",
       "      <th>param_n_estimators</th>\n",
       "      <th>param_random_state</th>\n",
       "      <th>params</th>\n",
       "      <th>split0_test_score</th>\n",
       "      <th>split1_test_score</th>\n",
       "      <th>split2_test_score</th>\n",
       "      <th>split3_test_score</th>\n",
       "      <th>split4_test_score</th>\n",
       "      <th>mean_test_score</th>\n",
       "      <th>std_test_score</th>\n",
       "      <th>rank_test_score</th>\n",
       "    </tr>\n",
       "  </thead>\n",
       "  <tbody>\n",
       "    <tr>\n",
       "      <th>0</th>\n",
       "      <td>35.699102</td>\n",
       "      <td>0.629892</td>\n",
       "      <td>0.324861</td>\n",
       "      <td>0.002760</td>\n",
       "      <td>100</td>\n",
       "      <td>3</td>\n",
       "      <td>{'n_estimators': 100, 'random_state': 3}</td>\n",
       "      <td>0.950155</td>\n",
       "      <td>0.956235</td>\n",
       "      <td>0.955526</td>\n",
       "      <td>0.957642</td>\n",
       "      <td>0.955243</td>\n",
       "      <td>0.954960</td>\n",
       "      <td>0.002542</td>\n",
       "      <td>3</td>\n",
       "    </tr>\n",
       "    <tr>\n",
       "      <th>1</th>\n",
       "      <td>70.968023</td>\n",
       "      <td>1.216125</td>\n",
       "      <td>0.610690</td>\n",
       "      <td>0.011731</td>\n",
       "      <td>200</td>\n",
       "      <td>3</td>\n",
       "      <td>{'n_estimators': 200, 'random_state': 3}</td>\n",
       "      <td>0.952450</td>\n",
       "      <td>0.959882</td>\n",
       "      <td>0.956167</td>\n",
       "      <td>0.959736</td>\n",
       "      <td>0.957689</td>\n",
       "      <td>0.957185</td>\n",
       "      <td>0.002738</td>\n",
       "      <td>2</td>\n",
       "    </tr>\n",
       "    <tr>\n",
       "      <th>2</th>\n",
       "      <td>106.000859</td>\n",
       "      <td>0.994706</td>\n",
       "      <td>0.853373</td>\n",
       "      <td>0.009477</td>\n",
       "      <td>300</td>\n",
       "      <td>3</td>\n",
       "      <td>{'n_estimators': 300, 'random_state': 3}</td>\n",
       "      <td>0.953881</td>\n",
       "      <td>0.961022</td>\n",
       "      <td>0.956395</td>\n",
       "      <td>0.960791</td>\n",
       "      <td>0.959010</td>\n",
       "      <td>0.958220</td>\n",
       "      <td>0.002729</td>\n",
       "      <td>1</td>\n",
       "    </tr>\n",
       "  </tbody>\n",
       "</table>\n",
       "</div>"
      ],
      "text/plain": [
       "   mean_fit_time  std_fit_time  ...  std_test_score  rank_test_score\n",
       "0      35.699102      0.629892  ...        0.002542                3\n",
       "1      70.968023      1.216125  ...        0.002738                2\n",
       "2     106.000859      0.994706  ...        0.002729                1\n",
       "\n",
       "[3 rows x 15 columns]"
      ]
     },
     "execution_count": 34,
     "metadata": {
      "tags": []
     },
     "output_type": "execute_result"
    }
   ],
   "source": [
    "model6 = GridSearchCV(RandomForestClassifier(),{'n_estimators':[100,200,300],'random_state':[3]},scoring='roc_auc',cv=5)\n",
    "model6.fit(x_train,y_train)\n",
    "df6 = pd.DataFrame(model6.cv_results_)\n",
    "df6"
   ]
  },
  {
   "cell_type": "code",
   "execution_count": 35,
   "metadata": {
    "colab": {
     "base_uri": "https://localhost:8080/",
     "height": 34
    },
    "colab_type": "code",
    "id": "Yjato7u64Ls0",
    "outputId": "e0db4d41-d906-420c-a1d8-663f5c3eaa55"
   },
   "outputs": [
    {
     "name": "stdout",
     "output_type": "stream",
     "text": [
      "0.9325776534668041\n"
     ]
    }
   ],
   "source": [
    "prediction = model6.predict(x_test)\n",
    "print(accuracy_score(y_test,prediction))\n",
    "Comparision.loc[len(Comparision)] = [\"Random Forest Classifier\",accuracy_score(y_test,prediction)]"
   ]
  },
  {
   "cell_type": "code",
   "execution_count": 36,
   "metadata": {
    "colab": {
     "base_uri": "https://localhost:8080/",
     "height": 572
    },
    "colab_type": "code",
    "id": "Iyhbw5cQEm8C",
    "outputId": "c353f4a5-e704-4efb-e8ff-641f54d91a73"
   },
   "outputs": [
    {
     "data": {
      "text/plain": [
       "<matplotlib.legend.Legend at 0x7ff49d701470>"
      ]
     },
     "execution_count": 36,
     "metadata": {
      "tags": []
     },
     "output_type": "execute_result"
    },
    {
     "data": {
      "image/png": "[encoded data removed]",
      "text/plain": [
       "<Figure size 600x600 with 1 Axes>"
      ]
     },
     "metadata": {
      "needs_background": "light",
      "tags": []
     },
     "output_type": "display_data"
    }
   ],
   "source": [
    "prediction = model6.predict(x_test)\n",
    "fpr,tpr,_ = roc_curve(y_test,prediction)\n",
    "roc_auc = auc(fpr,tpr)\n",
    "plt.figure(figsize=(6,6),dpi=100)\n",
    "plt.plot(fpr, tpr, color='darkorange', lw=4, label='ROC curve (area = %0.2f)' %roc_auc)\n",
    "plt.plot([0, 1], [0, 1], color='navy', lw=4, linestyle='--',label='No Classifier')\n",
    "plt.xlim([-0.01, 1.0])\n",
    "plt.ylim([-0.01, 1.05])\n",
    "plt.xlabel('False Positive Rate')\n",
    "plt.ylabel('True Positive Rate')\n",
    "plt.title('Random Forest Classifier')\n",
    "plt.legend(loc='lower right', fontsize=13)"
   ]
  },
  {
   "cell_type": "markdown",
   "metadata": {
    "colab_type": "text",
    "id": "l1sGOpQVLWiB"
   },
   "source": [
    "# **Keras Module**"
   ]
  },
  {
   "cell_type": "code",
   "execution_count": 37,
   "metadata": {
    "colab": {
     "base_uri": "https://localhost:8080/",
     "height": 34
    },
    "colab_type": "code",
    "id": "sM2vUw_9eHsj",
    "outputId": "4811531b-2bf3-4da3-8a66-1b8689b2d748"
   },
   "outputs": [
    {
     "name": "stderr",
     "output_type": "stream",
     "text": [
      "Using TensorFlow backend.\n"
     ]
    }
   ],
   "source": [
    "import tensorflow as tf\n",
    "from tensorflow import keras\n",
    "from tensorflow.keras import layers\n",
    "from keras.models import Sequential\n",
    "from keras.layers import Dense"
   ]
  },
  {
   "cell_type": "code",
   "execution_count": 0,
   "metadata": {
    "colab": {},
    "colab_type": "code",
    "id": "7GDM_iKcLZjE"
   },
   "outputs": [],
   "source": [
    "# define the keras model\n",
    "model = Sequential()\n",
    "model.add(Dense(64, input_dim=4372, activation='relu'))\n",
    "model.add(Dense(32, activation='relu'))\n",
    "model.add(Dense(16, activation='relu'))\n",
    "model.add(Dense(8, activation='relu'))\n",
    "model.add(Dense(1, activation='sigmoid'))"
   ]
  },
  {
   "cell_type": "code",
   "execution_count": 0,
   "metadata": {
    "colab": {},
    "colab_type": "code",
    "id": "fYFtxKH7LeBC"
   },
   "outputs": [],
   "source": [
    "# compile the keras model\n",
    "model.compile(loss='binary_crossentropy', optimizer='adam', metrics=['accuracy'])"
   ]
  },
  {
   "cell_type": "code",
   "execution_count": 40,
   "metadata": {
    "colab": {
     "base_uri": "https://localhost:8080/",
     "height": 52
    },
    "colab_type": "code",
    "id": "IAD9WM6UimL0",
    "outputId": "053b40a1-8f55-48d9-cffa-4d1856132918"
   },
   "outputs": [
    {
     "name": "stdout",
     "output_type": "stream",
     "text": [
      "15848/15848 [==============================] - 1s 48us/step\n",
      "Accuracy: 100.00\n"
     ]
    }
   ],
   "source": [
    "# fit the keras model on the dataset\n",
    "model.fit(x_train, y_train, epochs=250, batch_size=10,verbose=0)\n",
    "# evaluate the keras model\n",
    "_, accuracy = model.evaluate(x_train, y_train)\n",
    "print('Accuracy: %.2f' % (accuracy*100))"
   ]
  },
  {
   "cell_type": "code",
   "execution_count": 41,
   "metadata": {
    "colab": {
     "base_uri": "https://localhost:8080/",
     "height": 34
    },
    "colab_type": "code",
    "id": "ZcwESSiYLgyN",
    "outputId": "55889488-ea0a-42dc-e1a4-f9193ac77f89"
   },
   "outputs": [
    {
     "name": "stdout",
     "output_type": "stream",
     "text": [
      "0.9153540409244811\n"
     ]
    }
   ],
   "source": [
    "# make class predictions with the model\n",
    "prediction = model.predict_classes(x_test)\n",
    "print(accuracy_score(prediction,y_test))\n",
    "Comparision.loc[len(Comparision)] = [\"Keras NN\",accuracy_score(y_test,prediction)]"
   ]
  },
  {
   "cell_type": "code",
   "execution_count": 51,
   "metadata": {
    "colab": {
     "base_uri": "https://localhost:8080/",
     "height": 572
    },
    "colab_type": "code",
    "id": "BbVMT6q4EsZV",
    "outputId": "450e2486-523d-4d03-cacb-f9338ac3c4cd"
   },
   "outputs": [
    {
     "data": {
      "text/plain": [
       "<matplotlib.legend.Legend at 0x7ff49d053c50>"
      ]
     },
     "execution_count": 51,
     "metadata": {
      "tags": []
     },
     "output_type": "execute_result"
    },
    {
     "data": {
      "image/png": "[encoded data removed]",
      "text/plain": [
       "<Figure size 600x600 with 1 Axes>"
      ]
     },
     "metadata": {
      "needs_background": "light",
      "tags": []
     },
     "output_type": "display_data"
    }
   ],
   "source": [
    "prediction = model.predict(x_test)\n",
    "fpr,tpr,_ = roc_curve(y_test,prediction)\n",
    "roc_auc = auc(fpr,tpr)\n",
    "plt.figure(figsize=(6,6),dpi=100)\n",
    "plt.plot(fpr, tpr, color='darkorange', lw=4, label='ROC curve (area = %0.2f)' %roc_auc)\n",
    "plt.plot([0, 1], [0, 1], color='navy', lw=4, linestyle='--',label='No Classifier')\n",
    "plt.xlim([-0.01, 1.0])\n",
    "plt.ylim([-0.01, 1.05])\n",
    "plt.xlabel('False Positive Rate')\n",
    "plt.ylabel('True Positive Rate')\n",
    "plt.title('Keras NN')\n",
    "plt.legend(loc='lower right', fontsize=13)"
   ]
  },
  {
   "cell_type": "markdown",
   "metadata": {
    "colab_type": "text",
    "id": "RWqSzAMTb9uQ"
   },
   "source": [
    "# **KNN Classifier**"
   ]
  },
  {
   "cell_type": "code",
   "execution_count": 0,
   "metadata": {
    "colab": {},
    "colab_type": "code",
    "id": "RoAXrhu8b86x"
   },
   "outputs": [],
   "source": [
    "from sklearn.neighbors import KNeighborsClassifier"
   ]
  },
  {
   "cell_type": "code",
   "execution_count": 44,
   "metadata": {
    "colab": {
     "base_uri": "https://localhost:8080/",
     "height": 104
    },
    "colab_type": "code",
    "id": "INGHksSydTSe",
    "outputId": "80f5e1db-677b-4e15-84c7-0641c6315cab"
   },
   "outputs": [
    {
     "name": "stdout",
     "output_type": "stream",
     "text": [
      "   mean_fit_time  std_fit_time  ...  std_test_score  rank_test_score\n",
      "0       7.574275      0.067472  ...        0.006281                2\n",
      "1       7.545586      0.037688  ...        0.006283                1\n",
      "\n",
      "[2 rows x 14 columns]\n"
     ]
    }
   ],
   "source": [
    "model4 = GridSearchCV(KNeighborsClassifier(),{'n_neighbors':[47,51]},scoring='roc_auc',cv=5)\n",
    "model4.fit(x_train,y_train)\n",
    "df4 = pd.DataFrame(model4.cv_results_)\n",
    "print(df4.head())"
   ]
  },
  {
   "cell_type": "code",
   "execution_count": 45,
   "metadata": {
    "colab": {
     "base_uri": "https://localhost:8080/",
     "height": 34
    },
    "colab_type": "code",
    "id": "NtBJ9MJcdafS",
    "outputId": "4716feb4-df66-40db-df60-2c2d63b6293b"
   },
   "outputs": [
    {
     "name": "stdout",
     "output_type": "stream",
     "text": [
      "0.9349330192845576\n"
     ]
    }
   ],
   "source": [
    "prediction = model4.predict(x_test)\n",
    "print(accuracy_score(y_test,prediction))\n",
    "Comparision.loc[len(Comparision)] = [\"KNN Classifier\",accuracy_score(y_test,prediction)]"
   ]
  },
  {
   "cell_type": "code",
   "execution_count": 46,
   "metadata": {
    "colab": {
     "base_uri": "https://localhost:8080/",
     "height": 167
    },
    "colab_type": "code",
    "id": "Vnsm93XlgMaP",
    "outputId": "6593640f-d799-4a23-9a93-a133e2a42f5e"
   },
   "outputs": [
    {
     "data": {
      "text/html": [
       "<div>\n",
       "<style scoped>\n",
       "    .dataframe tbody tr th:only-of-type {\n",
       "        vertical-align: middle;\n",
       "    }\n",
       "\n",
       "    .dataframe tbody tr th {\n",
       "        vertical-align: top;\n",
       "    }\n",
       "\n",
       "    .dataframe thead th {\n",
       "        text-align: right;\n",
       "    }\n",
       "</style>\n",
       "<table border=\"1\" class=\"dataframe\">\n",
       "  <thead>\n",
       "    <tr style=\"text-align: right;\">\n",
       "      <th></th>\n",
       "      <th>mean_fit_time</th>\n",
       "      <th>std_fit_time</th>\n",
       "      <th>mean_score_time</th>\n",
       "      <th>std_score_time</th>\n",
       "      <th>param_n_neighbors</th>\n",
       "      <th>params</th>\n",
       "      <th>split0_test_score</th>\n",
       "      <th>split1_test_score</th>\n",
       "      <th>split2_test_score</th>\n",
       "      <th>split3_test_score</th>\n",
       "      <th>split4_test_score</th>\n",
       "      <th>mean_test_score</th>\n",
       "      <th>std_test_score</th>\n",
       "      <th>rank_test_score</th>\n",
       "    </tr>\n",
       "  </thead>\n",
       "  <tbody>\n",
       "    <tr>\n",
       "      <th>0</th>\n",
       "      <td>7.574275</td>\n",
       "      <td>0.067472</td>\n",
       "      <td>326.617295</td>\n",
       "      <td>1.276844</td>\n",
       "      <td>47</td>\n",
       "      <td>{'n_neighbors': 47}</td>\n",
       "      <td>0.930468</td>\n",
       "      <td>0.94593</td>\n",
       "      <td>0.941516</td>\n",
       "      <td>0.948972</td>\n",
       "      <td>0.941125</td>\n",
       "      <td>0.941602</td>\n",
       "      <td>0.006281</td>\n",
       "      <td>2</td>\n",
       "    </tr>\n",
       "    <tr>\n",
       "      <th>1</th>\n",
       "      <td>7.545586</td>\n",
       "      <td>0.037688</td>\n",
       "      <td>326.984838</td>\n",
       "      <td>1.462419</td>\n",
       "      <td>51</td>\n",
       "      <td>{'n_neighbors': 51}</td>\n",
       "      <td>0.931601</td>\n",
       "      <td>0.94556</td>\n",
       "      <td>0.941260</td>\n",
       "      <td>0.950717</td>\n",
       "      <td>0.941654</td>\n",
       "      <td>0.942159</td>\n",
       "      <td>0.006283</td>\n",
       "      <td>1</td>\n",
       "    </tr>\n",
       "  </tbody>\n",
       "</table>\n",
       "</div>"
      ],
      "text/plain": [
       "   mean_fit_time  std_fit_time  ...  std_test_score  rank_test_score\n",
       "0       7.574275      0.067472  ...        0.006281                2\n",
       "1       7.545586      0.037688  ...        0.006283                1\n",
       "\n",
       "[2 rows x 14 columns]"
      ]
     },
     "execution_count": 46,
     "metadata": {
      "tags": []
     },
     "output_type": "execute_result"
    }
   ],
   "source": [
    "df4"
   ]
  },
  {
   "cell_type": "code",
   "execution_count": 52,
   "metadata": {
    "colab": {
     "base_uri": "https://localhost:8080/",
     "height": 572
    },
    "colab_type": "code",
    "id": "XaIHjUIHEXfk",
    "outputId": "da4266ce-efc4-4dfb-c628-49fbbf116292"
   },
   "outputs": [
    {
     "data": {
      "text/plain": [
       "<matplotlib.legend.Legend at 0x7ff49d010710>"
      ]
     },
     "execution_count": 52,
     "metadata": {
      "tags": []
     },
     "output_type": "execute_result"
    },
    {
     "data": {
      "image/png": "[encoded data removed]",
      "text/plain": [
       "<Figure size 600x600 with 1 Axes>"
      ]
     },
     "metadata": {
      "needs_background": "light",
      "tags": []
     },
     "output_type": "display_data"
    }
   ],
   "source": [
    "prediction = model4.predict(x_test)\n",
    "fpr,tpr,_ = roc_curve(y_test,prediction)\n",
    "roc_auc = auc(fpr,tpr)\n",
    "plt.figure(figsize=(6,6),dpi=100)\n",
    "plt.plot(fpr, tpr, color='darkorange', lw=4, label='ROC curve (area = %0.2f)' %roc_auc)\n",
    "plt.plot([0, 1], [0, 1], color='navy', lw=4, linestyle='--',label='No Classifier')\n",
    "plt.xlim([-0.01, 1.0])\n",
    "plt.ylim([-0.01, 1.05])\n",
    "plt.xlabel('False Positive Rate')\n",
    "plt.ylabel('True Positive Rate')\n",
    "plt.title('KNN Classifier')\n",
    "plt.legend(loc='lower right', fontsize=13)"
   ]
  },
  {
   "cell_type": "markdown",
   "metadata": {
    "colab_type": "text",
    "id": "6VDP_HxrAxtH"
   },
   "source": [
    "# **Model Analysis**"
   ]
  },
  {
   "cell_type": "code",
   "execution_count": 48,
   "metadata": {
    "colab": {
     "base_uri": "https://localhost:8080/",
     "height": 300
    },
    "colab_type": "code",
    "id": "xhPrCel3A1b2",
    "outputId": "7072cfb8-dd94-4bde-a70a-33ad6aac1903"
   },
   "outputs": [
    {
     "data": {
      "text/html": [
       "<div>\n",
       "<style scoped>\n",
       "    .dataframe tbody tr th:only-of-type {\n",
       "        vertical-align: middle;\n",
       "    }\n",
       "\n",
       "    .dataframe tbody tr th {\n",
       "        vertical-align: top;\n",
       "    }\n",
       "\n",
       "    .dataframe thead th {\n",
       "        text-align: right;\n",
       "    }\n",
       "</style>\n",
       "<table border=\"1\" class=\"dataframe\">\n",
       "  <thead>\n",
       "    <tr style=\"text-align: right;\">\n",
       "      <th></th>\n",
       "      <th>Model</th>\n",
       "      <th>Accuracy</th>\n",
       "    </tr>\n",
       "  </thead>\n",
       "  <tbody>\n",
       "    <tr>\n",
       "      <th>0</th>\n",
       "      <td>BernoulliNB</td>\n",
       "      <td>90.387163</td>\n",
       "    </tr>\n",
       "    <tr>\n",
       "      <th>1</th>\n",
       "      <td>SGD Classifier</td>\n",
       "      <td>93.493302</td>\n",
       "    </tr>\n",
       "    <tr>\n",
       "      <th>2</th>\n",
       "      <td>Logistic Regression</td>\n",
       "      <td>93.434418</td>\n",
       "    </tr>\n",
       "    <tr>\n",
       "      <th>3</th>\n",
       "      <td>XGBoost Classifier</td>\n",
       "      <td>93.463860</td>\n",
       "    </tr>\n",
       "    <tr>\n",
       "      <th>4</th>\n",
       "      <td>Decision Tree Classifier</td>\n",
       "      <td>89.150596</td>\n",
       "    </tr>\n",
       "    <tr>\n",
       "      <th>5</th>\n",
       "      <td>Random Forest Classifier</td>\n",
       "      <td>93.257765</td>\n",
       "    </tr>\n",
       "    <tr>\n",
       "      <th>6</th>\n",
       "      <td>Keras NN</td>\n",
       "      <td>91.535404</td>\n",
       "    </tr>\n",
       "    <tr>\n",
       "      <th>7</th>\n",
       "      <td>KNN Classifier</td>\n",
       "      <td>93.493302</td>\n",
       "    </tr>\n",
       "  </tbody>\n",
       "</table>\n",
       "</div>"
      ],
      "text/plain": [
       "                      Model   Accuracy\n",
       "0               BernoulliNB  90.387163\n",
       "1            SGD Classifier  93.493302\n",
       "2       Logistic Regression  93.434418\n",
       "3        XGBoost Classifier  93.463860\n",
       "4  Decision Tree Classifier  89.150596\n",
       "5  Random Forest Classifier  93.257765\n",
       "6                  Keras NN  91.535404\n",
       "7            KNN Classifier  93.493302"
      ]
     },
     "execution_count": 48,
     "metadata": {
      "tags": []
     },
     "output_type": "execute_result"
    }
   ],
   "source": [
    "exp = Comparision.copy()\n",
    "exp['Accuracy'] = exp['Accuracy'].map(lambda x: x*100 if(x<1) else x) \n",
    "exp\n"
   ]
  }
 ],
 "metadata": {
  "colab": {
   "collapsed_sections": [],
   "machine_shape": "hm",
   "name": "ML.ipynb",
   "provenance": []
  },
  "kernelspec": {
   "display_name": "Python 3",
   "language": "python",
   "name": "python3"
  },
  "language_info": {
   "codemirror_mode": {
    "name": "ipython",
    "version": 3
   },
   "file_extension": ".py",
   "mimetype": "text/x-python",
   "name": "python",
   "nbconvert_exporter": "python",
   "pygments_lexer": "ipython3",
   "version": "3.7.7"
  }
 },
 "nbformat": 4,
 "nbformat_minor": 1
}
